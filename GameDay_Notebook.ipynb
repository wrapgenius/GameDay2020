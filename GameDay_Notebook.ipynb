{
 "cells": [
  {
   "cell_type": "code",
   "execution_count": 1,
   "metadata": {},
   "outputs": [],
   "source": [
    "import pdb\n",
    "import os\n",
    "import sys\n",
    "import pandas as pd\n",
    "pd.options.mode.chained_assignment = None\n",
    "import numpy as np\n",
    "from GameDayFunctions.fangraphs_projection_2020 import Projection\n",
    "from GameDayFunctions.draft_2020 import Draft"
   ]
  },
  {
   "cell_type": "code",
   "execution_count": 2,
   "metadata": {},
   "outputs": [],
   "source": [
    "year = 2020\n",
    "path_data = \"projections/\""
   ]
  },
  {
   "cell_type": "code",
   "execution_count": 3,
   "metadata": {},
   "outputs": [],
   "source": [
    "player_ranking_zips = Projection(path_data=path_data,year=year,model='ZiPS')\n",
    "player_ranking_steam = Projection(path_data=path_data,year=year,model='Steamer')"
   ]
  },
  {
   "cell_type": "code",
   "execution_count": 4,
   "metadata": {},
   "outputs": [],
   "source": [
    "zips = Draft(player_ranking_zips, number_teams = 12)\n",
    "steam = Draft(player_ranking_steam, number_teams = 12)"
   ]
  },
  {
   "cell_type": "code",
   "execution_count": 5,
   "metadata": {},
   "outputs": [],
   "source": [
    "zips.draft_all()"
   ]
  },
  {
   "cell_type": "code",
   "execution_count": 6,
   "metadata": {},
   "outputs": [],
   "source": [
    "steam.draft_all()"
   ]
  },
  {
   "cell_type": "code",
   "execution_count": 7,
   "metadata": {},
   "outputs": [
    {
     "data": {
      "text/plain": [
       "9"
      ]
     },
     "execution_count": 7,
     "metadata": {},
     "output_type": "execute_result"
    }
   ],
   "source": [
    "steam.roto_placement"
   ]
  },
  {
   "cell_type": "code",
   "execution_count": 8,
   "metadata": {},
   "outputs": [
    {
     "data": {
      "text/plain": [
       "0     171.0\n",
       "9     163.0\n",
       "7     156.0\n",
       "1     144.5\n",
       "10    143.0\n",
       "4     123.0\n",
       "6     117.0\n",
       "11    114.5\n",
       "3     114.0\n",
       "8     108.0\n",
       "2     103.5\n",
       "5     102.5\n",
       "dtype: float64"
      ]
     },
     "execution_count": 8,
     "metadata": {},
     "output_type": "execute_result"
    }
   ],
   "source": [
    "zips.roto_standings"
   ]
  },
  {
   "cell_type": "code",
   "execution_count": 9,
   "metadata": {},
   "outputs": [
    {
     "data": {
      "text/plain": [
       "0     180.0\n",
       "9     162.0\n",
       "10    153.0\n",
       "11    140.5\n",
       "1     130.0\n",
       "4     125.0\n",
       "7     122.0\n",
       "3     122.0\n",
       "2     116.5\n",
       "6     115.0\n",
       "5     114.0\n",
       "8      80.0\n",
       "dtype: float64"
      ]
     },
     "execution_count": 9,
     "metadata": {},
     "output_type": "execute_result"
    }
   ],
   "source": [
    "steam.roto_standings"
   ]
  },
  {
   "cell_type": "code",
   "execution_count": 10,
   "metadata": {},
   "outputs": [
    {
     "data": {
      "text/plain": [
       "{'1B': 'Cody Bellinger',\n",
       " 'SS': 'Fernando Tatis',\n",
       " '2B': 'Ozzie Albies',\n",
       " 'RP': ['Aroldis Chapman', 'Tyler Duffey'],\n",
       " 'UTIL': 'Carlos Santana',\n",
       " 'SP': ['Drew Pomeranz', 'Brandon Woodruff'],\n",
       " 'P': [['Zack Britton', 'John Brebbia'], 'Colin Poche'],\n",
       " 'BN': [[[['Yoan López', 'Keynan Middleton'], 'Mark Melancon'], 'Luis Patiño'],\n",
       "  'Tyler Rogers'],\n",
       " '3B': 'Luis Arraez',\n",
       " 'OF': [['Nick Senzel', 'Willie Calhoun'], 'Franmil Reyes'],\n",
       " 'C': 'Carson Kelly'}"
      ]
     },
     "execution_count": 10,
     "metadata": {},
     "output_type": "execute_result"
    }
   ],
   "source": [
    "steam.teams[6]['roster']"
   ]
  },
  {
   "cell_type": "code",
   "execution_count": 712,
   "metadata": {},
   "outputs": [],
   "source": [
    "path_yahoo = '/Users/marcoviero/data/baseball/Fangraphs/projections/2020/Yahoo/'\n",
    "daya = pd.read_table(path_yahoo+'Yahoo_Roto_Ranking_2020.txt')"
   ]
  },
  {
   "cell_type": "code",
   "execution_count": null,
   "metadata": {},
   "outputs": [],
   "source": []
  },
  {
   "cell_type": "code",
   "execution_count": 823,
   "metadata": {},
   "outputs": [],
   "source": [
    "yahoo_df = pd.DataFrame(columns=['Rank','PLAYER','ELIG. POS.'])\n",
    "for i in np.arange(len(daya)):\n",
    "    posn = daya.iloc[i].values[0].split(' - ')\n",
    "    prts = posn[0].split(' ')\n",
    "    d = {'Rank':float(prts[0]), 'PLAYER':str(prts[1]+' '+prts[2]), 'ELIG. POS.':posn[1].replace(',','/')}\n",
    "    yahoo_df = yahoo_df.append(d, ignore_index = True)"
   ]
  },
  {
   "cell_type": "code",
   "execution_count": 821,
   "metadata": {},
   "outputs": [],
   "source": [
    "yahoo_df_sorted = yahoo_df.iloc[yahoo_df.Rank.argsort()]"
   ]
  },
  {
   "cell_type": "code",
   "execution_count": 822,
   "metadata": {},
   "outputs": [],
   "source": [
    "yahoo_df_sorted.to_csv(path_yahoo+'Yahoo_Roto_Ranking_2020.csv',index=False)"
   ]
  },
  {
   "cell_type": "code",
   "execution_count": null,
   "metadata": {},
   "outputs": [],
   "source": []
  },
  {
   "cell_type": "code",
   "execution_count": 32,
   "metadata": {},
   "outputs": [],
   "source": [
    "class Draft:\n",
    "\n",
    "    def __init__(self, projections_object, \n",
    "                 draft_position = 6,\n",
    "                 number_teams = 12,\n",
    "                 roster_spots = {'C':1,'1B':1,'2B':1, '3B':1,'SS':1,'OF':3,'UTIL':1,'SP':2,'RP':2,'P':3,'BN':5},\n",
    "                 batter_stats  = ['AB','R','1B','2B', '3B','HR','RBI','SB','BB','AVG','OPS'],\n",
    "                 pitcher_stats = ['IP','W', 'L','CG','SHO','SV','BB','SO','ERA','WHIP','BSV'] ):\n",
    "\n",
    "        self.number_rounds = sum(roster_spots.values())\n",
    "        self.draft_position = draft_position\n",
    "        self.player_projections = projections_object\n",
    "        self.remaining_ranked_players = projections_object.all_rank \n",
    "        #self.roto_standings = []\n",
    "        self.roto_stats_batting = pd.DataFrame(columns =  batter_stats[1:])\n",
    "        self.roto_stats_pitching = pd.DataFrame(columns =  pitcher_stats[1:])\n",
    "        self.teams = {}\n",
    "        for i in np.arange(number_teams):\n",
    "            roto_stats = {}\n",
    "            roto_stats['batting_stats'] = pd.DataFrame(columns =  batter_stats)\n",
    "            roto_stats['pitching_stats'] = pd.DataFrame(columns =  pitcher_stats)\n",
    "            roto_stats['roster_spots'] = roster_spots.copy()\n",
    "            roto_stats['roster'] = {}\n",
    "            self.teams[i] = roto_stats\n",
    "\n",
    "    # Do the entire draft one round at a time\n",
    "    def draft_all(self):\n",
    "        for iround in np.arange(self.number_rounds):\n",
    "            self.draft_round(iround)\n",
    "        self.tabulate_roto()\n",
    "        \n",
    "    # Do each round of the draft one team at a time\n",
    "    def draft_round(self, round_key):\n",
    "        # Reverse draft order every other round\n",
    "        draft_order = np.arange(len(self.teams))\n",
    "        if round_key % 2 == 1:\n",
    "            draft_order = draft_order[::-1]\n",
    "        for iteam in draft_order:\n",
    "            self.draft_pick(iteam)\n",
    "            \n",
    "    # Define logic for round selection\n",
    "    def draft_pick(self,team_key):\n",
    "        pick_ok = False\n",
    "        df = self.remaining_ranked_players\n",
    "        while pick_ok == False:\n",
    "            pick_ok = True\n",
    "\n",
    "            # Figure out what positions are still unfilled.\n",
    "            unfilled_positions = [k for (k,v) in self.teams[team_key]['roster_spots'].items() if v > 0]\n",
    "            ups = '|'.join(unfilled_positions)\n",
    "            #print(ups)\n",
    "            \n",
    "            # If the first value is not eligible, then need to decide if can be UTIL or BN \n",
    "            idx_eligible = [i for i, val in enumerate(df.EligiblePosition.str.contains(ups)) if val] \n",
    "\n",
    "            if len(idx_eligible) == 0 or idx_eligible[0] != 0:\n",
    "                # Check if there are UTIL positions left\n",
    "                df,drafted_player=df.drop(df.iloc[0:1].index),df.iloc[0:1]\n",
    "                eligible_positions = drafted_player.EligiblePosition.values[0]\n",
    "                if drafted_player.EligiblePosition.str.contains('P').bool() == True:\n",
    "                    if self.teams[team_key]['roster_spots']['P'] > 0:\n",
    "                        position = 'P'\n",
    "                    elif self.teams[team_key]['roster_spots']['BN'] > 0:\n",
    "                        position = 'BN'\n",
    "                    else:\n",
    "                        position = 'No Roster Spots Left'\n",
    "                        pick_ok = False\n",
    "                else:\n",
    "                    if self.teams[team_key]['roster_spots']['UTIL'] > 0:\n",
    "                        position = 'UTIL'\n",
    "                    elif self.teams[team_key]['roster_spots']['BN'] > 0:\n",
    "                        position = 'BN'\n",
    "                    else:\n",
    "                        position = 'No Roster Spots Left'\n",
    "                        pick_ok = False\n",
    "\n",
    "                #print(self.teams[team_key]['roster_spots'])\n",
    "                #print('Considering '+drafted_player.PLAYER+' for '+position)\n",
    "            else:\n",
    "                pick = idx_eligible[0]\n",
    "                df,drafted_player=df.drop(df.iloc[pick:pick+1].index),df.iloc[pick:pick+1]\n",
    "                eligible_positions = drafted_player.EligiblePosition.values[0]\n",
    "                \n",
    "                # For those eligible for multiple positions, split them up and pick one\n",
    "                tf_position = [p in eligible_positions for p in unfilled_positions]\n",
    "                idx_position = [i for i, val in enumerate(tf_position) if val] \n",
    "                position = unfilled_positions[idx_position[0]]\n",
    "\n",
    "            if pick_ok == True:\n",
    "                # Check if Position is a Pitcher or Batter\n",
    "                if drafted_player.EligiblePosition.str.contains('P').bool() == True:\n",
    "                    idx_player = self.player_projections.pitchers_stats.Name.values == drafted_player.iloc[0].PLAYER\n",
    "                    statline = self.player_projections.pitchers_stats[idx_player][self.teams[team_key]['pitching_stats'].keys()]\n",
    "                    self.teams[team_key]['pitching_stats'] = self.teams[team_key]['pitching_stats'].append(statline)\n",
    "\n",
    "                else:\n",
    "                    idx_player = self.player_projections.hitters_stats.Name.values == drafted_player.iloc[0].PLAYER\n",
    "                    statline = self.player_projections.hitters_stats[idx_player][self.teams[team_key]['batting_stats'].keys()]\n",
    "                    self.teams[team_key]['batting_stats'] = self.teams[team_key]['batting_stats'].append(statline)\n",
    "\n",
    "                #remove player from self.remaining_ranked_players \n",
    "                self.remaining_ranked_players = df\n",
    "\n",
    "                # Eliminate one roster position\n",
    "                self.teams[team_key]['roster_spots'][position] -= 1\n",
    "                if position in self.teams[team_key]['roster']:\n",
    "                    self.teams[team_key]['roster'][position] = [self.teams[team_key]['roster'][position], drafted_player.PLAYER.values[0]]\n",
    "                    #self.teams[team_key]['roster'][position] = [self.teams[team_key]['roster'][position]].append(drafted_player.PLAYER.values[0])\n",
    "                else:\n",
    "                    self.teams[team_key]['roster'][position] = drafted_player.PLAYER.values[0]\n",
    "                #print('Team '+ str(team_key) +' Drafting '+drafted_player.PLAYER+' for '+position)\n",
    "            #else:\n",
    "            #    print('Not Drafting '+drafted_player.PLAYER)\n",
    "            #    print(ups)\n",
    "            #pdb.set_trace()\n",
    "            \n",
    "    def tabulate_roto(self):\n",
    "        for iteam in np.arange(len(self.teams)):\n",
    "            raw_team_batting = self.teams[iteam]['batting_stats']\n",
    "            raw_team_pitching = self.teams[iteam]['pitching_stats']\n",
    "            roto_team_batting = raw_team_batting.mean()\n",
    "            roto_team_pitching = raw_team_pitching.mean()\n",
    "            if 'AVG' in raw_team_batting:\n",
    "                roto_team_batting['AVG'] = (raw_team_batting['AVG']*raw_team_batting['AB']).sum()/raw_team_batting['AB'].sum()\n",
    "            if 'OPS' in raw_team_batting:\n",
    "                roto_team_batting['OPS'] = (raw_team_batting['OPS']*raw_team_batting['AB']).sum()/raw_team_batting['AB'].sum() \n",
    "            if 'ERA' in raw_team_pitching:\n",
    "                roto_team_batting['ERA'] = (raw_team_pitching['ERA']*raw_team_pitching['IP']).sum()/raw_team_pitching['IP'].sum() \n",
    "            if 'WHIP' in raw_team_pitching:\n",
    "                roto_team_batting['WHIP'] = (raw_team_pitching['WHIP']*raw_team_pitching['IP']).sum()/raw_team_pitching['IP'].sum()\n",
    "            batting_stat_names = self.roto_stats_batting.columns.values.tolist()\n",
    "            pitching_stat_names = self.roto_stats_pitching.columns.values.tolist()\n",
    "            self.roto_stats_batting = self.roto_stats_batting.append(roto_team_batting[batting_stat_names],ignore_index = True)\n",
    "            self.roto_stats_pitching = self.roto_stats_pitching.append(roto_team_pitching[pitching_stat_names],ignore_index = True)\n",
    "            \n",
    "        self.roto_team_stats = pd.concat([self.roto_stats_batting, self.roto_stats_pitching], axis=1, sort=False)\n",
    "        roto_standings_avgs = pd.concat([self.roto_stats_batting.rank(ascending=False), self.roto_stats_pitching.rank(ascending=False).rename(columns={\"BB\": \"BBP\"})], axis=1, sort=False)\n",
    "        roto_standings_cnts = pd.concat([self.roto_stats_batting.rank(), self.roto_stats_pitching.rank().rename(columns={\"BB\": \"BBP\"})], axis=1, sort=False)\n",
    "        avg_stats = ['CS','BBP','ERA','WHIP','BSV']\n",
    "        for avg_stat in avg_stats:\n",
    "            if avg_stat in roto_standings_avgs:\n",
    "                roto_standings_cnts[avg_stat] = roto_standings_avgs[avg_stat]\n",
    "        self.roto_standings = roto_standings_cnts.sum(axis=1).sort_values(ascending=False)\n",
    "        self.roto_placement = self.roto_standings.index.get_loc(self.draft_position)\n",
    "        #pdb.set_trace()\n"
   ]
  },
  {
   "cell_type": "code",
   "execution_count": null,
   "metadata": {},
   "outputs": [],
   "source": []
  }
 ],
 "metadata": {
  "kernelspec": {
   "display_name": "Python 3",
   "language": "python",
   "name": "python3"
  },
  "language_info": {
   "codemirror_mode": {
    "name": "ipython",
    "version": 3
   },
   "file_extension": ".py",
   "mimetype": "text/x-python",
   "name": "python",
   "nbconvert_exporter": "python",
   "pygments_lexer": "ipython3",
   "version": "3.6.7"
  }
 },
 "nbformat": 4,
 "nbformat_minor": 4
}
