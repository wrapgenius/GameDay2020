{
 "cells": [
  {
   "cell_type": "code",
   "execution_count": 10,
   "metadata": {},
   "outputs": [],
   "source": [
    "import pdb\n",
    "import os\n",
    "import sys\n",
    "import pandas as pd\n",
    "pd.options.mode.chained_assignment = None\n",
    "import numpy as np\n",
    "from copy import deepcopy\n",
    "import copy\n",
    "from GameDayFunctions.fangraphs_projection_2020 import Projection\n",
    "#from GameDayFunctions.draft_2020 import Draft"
   ]
  },
  {
   "cell_type": "code",
   "execution_count": 2,
   "metadata": {},
   "outputs": [],
   "source": [
    "year = 2020\n",
    "path_data = \"projections/\""
   ]
  },
  {
   "cell_type": "code",
   "execution_count": 3,
   "metadata": {},
   "outputs": [],
   "source": [
    "player_ranking_zips = Projection(path_data=path_data,year=year,model='ZiPS')\n",
    "player_ranking_steam = Projection(path_data=path_data,year=year,model='Steamer')"
   ]
  },
  {
   "cell_type": "code",
   "execution_count": 85,
   "metadata": {},
   "outputs": [],
   "source": [
    "class Draft:\n",
    "\n",
    "    def __init__(self, projections_object, \n",
    "                 draft_position = 2,\n",
    "                 number_teams = 12,\n",
    "                 roster_spots = {'C':1,'1B':1,'2B':1, '3B':1,'SS':1,'OF':3,'UTIL':1,'SP':2,'RP':2,'P':3,'BN':5},\n",
    "                 batter_stats  = ['AB','R','1B','2B', '3B','HR','RBI','SB','BB','AVG','OPS'],\n",
    "                 pitcher_stats = ['IP','W', 'L','CG','SHO','SV','BB','SO','ERA','WHIP','BSV'] ):\n",
    "\n",
    "        self.number_teams = number_teams\n",
    "        self.number_rounds = sum(roster_spots.values())\n",
    "        self.draft_position = draft_position - 1 # e.g., 1st pick is 0!\n",
    "        self.round_number = 0\n",
    "        self.draft_number = 0\n",
    "        self.player_projections = projections_object\n",
    "        self.remaining_ranked_players = projections_object.all_rank \n",
    "        self.roto_stats_batting = pd.DataFrame(columns =  batter_stats[1:])\n",
    "        self.roto_stats_pitching = pd.DataFrame(columns =  pitcher_stats[1:])\n",
    "        self.teams = {}\n",
    "        for i in np.arange(number_teams):\n",
    "            roto_stats = {}\n",
    "            roto_stats['batting_stats'] = pd.DataFrame(columns =  batter_stats)\n",
    "            roto_stats['pitching_stats'] = pd.DataFrame(columns =  pitcher_stats)\n",
    "            roto_stats['roster_spots'] = roster_spots.copy()\n",
    "            roto_stats['roster'] = {}\n",
    "            self.teams[i] = roto_stats\n",
    "    \n",
    "    # Find Resulting Standings\n",
    "    def tabulate_roto(self, teams):\n",
    "        roto_stats_batting = self.roto_stats_batting.copy()\n",
    "        roto_stats_pitching = self.roto_stats_pitching.copy()\n",
    "        for iteam in np.arange(self.number_teams):\n",
    "            raw_team_batting = teams[iteam]['batting_stats']\n",
    "            raw_team_pitching = teams[iteam]['pitching_stats']\n",
    "            roto_team_batting = raw_team_batting.mean()\n",
    "            roto_team_pitching = raw_team_pitching.mean()\n",
    "            if 'AVG' in raw_team_batting:\n",
    "                roto_team_batting['AVG'] = (raw_team_batting['AVG']*raw_team_batting['AB']).sum()/raw_team_batting['AB'].sum()\n",
    "            if 'OPS' in raw_team_batting:\n",
    "                roto_team_batting['OPS'] = (raw_team_batting['OPS']*raw_team_batting['AB']).sum()/raw_team_batting['AB'].sum() \n",
    "            if 'ERA' in raw_team_pitching:\n",
    "                roto_team_batting['ERA'] = (raw_team_pitching['ERA']*raw_team_pitching['IP']).sum()/raw_team_pitching['IP'].sum() \n",
    "            if 'WHIP' in raw_team_pitching:\n",
    "                roto_team_batting['WHIP'] = (raw_team_pitching['WHIP']*raw_team_pitching['IP']).sum()/raw_team_pitching['IP'].sum()\n",
    "            batting_stat_names = self.roto_stats_batting.columns.values.tolist()\n",
    "            pitching_stat_names = self.roto_stats_pitching.columns.values.tolist()\n",
    "            roto_stats_batting = roto_stats_batting.append(roto_team_batting[batting_stat_names],ignore_index = True)\n",
    "            roto_stats_pitching = roto_stats_pitching.append(roto_team_pitching[pitching_stat_names],ignore_index = True)\n",
    "            \n",
    "        roto_team_stats = pd.concat([roto_stats_batting, roto_stats_pitching], axis=1, sort=False)\n",
    "        roto_standings_avgs = pd.concat([roto_stats_batting.rank(ascending=False), roto_stats_pitching.rank(ascending=False).rename(columns={\"BB\": \"BBP\"})], axis=1, sort=False)\n",
    "        roto_standings_cnts = pd.concat([roto_stats_batting.rank(), roto_stats_pitching.rank().rename(columns={\"BB\": \"BBP\"})], axis=1, sort=False)\n",
    "        avg_stats = ['CS','BBP','ERA','WHIP','BSV']\n",
    "        for avg_stat in avg_stats:\n",
    "            if avg_stat in roto_standings_avgs:\n",
    "                roto_standings_cnts[avg_stat] = roto_standings_avgs[avg_stat]\n",
    "        roto_standings = roto_standings_cnts.sum(axis=1).sort_values(ascending=False)\n",
    "        roto_placement = roto_standings.index.get_loc(self.draft_position) + 1 # standings starting from 1 (not 0)\n",
    "        #pdb.set_trace()\n",
    "        return roto_stats_batting, roto_stats_pitching, roto_standings, roto_placement\n",
    "    \n",
    "    \n",
    "    # Do the entire draft one round at a time\n",
    "    def draft_all(self):\n",
    "        #df_all = self.remaining_ranked_players.copy()\n",
    "        #teams_all = self.teams.copy()\n",
    "        for iround in np.arange(self.number_rounds):\n",
    "            self.teams, self.remaining_ranked_players = self.draft_round(iround, self.teams, self.remaining_ranked_players)\n",
    "            self.round_number += 1\n",
    "            #pdb.set_trace()\n",
    "        self.roto_stats_batting, self.roto_stats_pitching, self.roto_standings, self.roto_placement = self.tabulate_roto(self.teams)\n",
    "      \n",
    "    # Draft each round one team at a time.  When reaching \"draft_position\", stop and to pseudo_drafts to figure out best choice. \n",
    "    def draft_round(self, round_key, teams, df):\n",
    "        \n",
    "        # Reverse draft order every other round\n",
    "        draft_order = np.arange(self.number_teams)\n",
    "        if round_key % 2 == 1:\n",
    "            draft_order = draft_order[::-1]\n",
    "        \n",
    "        # Reset draft_number at start of round\n",
    "        self.draft_number = self.number_teams - len(draft_order)\n",
    "        \n",
    "        teams_copy = copy.deepcopy(teams) #teams.apply(deepcopy) #copy()\n",
    "        df_copy = copy.deepcopy(df) #df.apply(deepcopy) #df.copy()\n",
    "        \n",
    "        # Draft each round one team at a time\n",
    "        for iteam in draft_order:\n",
    "            \n",
    "            # When team is draft_position, search for best pick.\n",
    "            if iteam == self.draft_position:\n",
    "                best_pick, best_position = self.find_best_pick(iteam, teams_copy, df_copy, round_key)\n",
    "                #print('Line 91 - Forcing Best Pick to be '+str(best_pick))\n",
    "                #pdb.set_trace()  \n",
    "                teams_copy, df_copy = self.draft_next_best(iteam, teams_copy, df_copy, force_pick = best_pick, force_position = best_position)\n",
    "            else: \n",
    "                teams_copy, df_copy = self.draft_next_best(iteam, teams, df_copy)\n",
    "            #teams_copy, df_copy = self.draft_next_best(iteam, teams_copy, df_copy)\n",
    "            #self.draft_number += 1\n",
    "            \n",
    "        #pdb.set_trace()\n",
    "        return teams_copy, df_copy\n",
    "\n",
    "        \n",
    "    def draft_remaining(self, teams_copy, df_copy, draft_round):\n",
    "        \n",
    "        #teams_copy = teams.copy()\n",
    "        #df_copy = df.copy()\n",
    "        \n",
    "        #pdb.set_trace()\n",
    "        for iround in range(draft_round,self.number_rounds):\n",
    "            \n",
    "            draft_order = np.arange(self.number_teams)\n",
    "            \n",
    "            # Reverse draft order every other round\n",
    "            if iround % 2 == 1:\n",
    "                draft_order = draft_order[::-1]\n",
    "            \n",
    "            # For the very first round begin at beginning self.draft_position\n",
    "            if iround == draft_round:\n",
    "                if iround % 2 == 1:\n",
    "                    starting_position = self.number_teams - self.draft_position;\n",
    "                else:\n",
    "                    starting_position = self.draft_position + 1;\n",
    "                draft_order = draft_order[starting_position:] \n",
    "                \n",
    "            for iteam in draft_order:\n",
    "                teams_copy, df_copy = self.draft_next_best(iteam, teams_copy, df_copy)\n",
    "\n",
    "        #pdb.set_trace()\n",
    "        return teams_copy, df_copy\n",
    "        \n",
    "    def find_best_pick(self, team_key, teams_copy, df_copy, round_key):\n",
    "        # find_best_pick returns iloc, the index (of df) of the optimal pick\n",
    "\n",
    "        unfilled_positions = [k for (k,v) in teams_copy[team_key]['roster_spots'].items() if v > 0]\n",
    "        if 'BN' in unfilled_positions:\n",
    "            unfilled_positions.remove('BN')\n",
    "        \n",
    "        # Begin with next best player.        \n",
    "        idx_eligible = []\n",
    "        pos_eligible = []\n",
    "        \n",
    "        pdb.set_trace()\n",
    "        fielders = ['C','1B','2B','3B','SS','OF','UTIL']\n",
    "        pitchers = ['SP', 'RP', 'P']\n",
    "        # Find index of best player at each remaining position\n",
    "        for iunfilled in unfilled_positions:\n",
    "            if iunfilled == 'UTIL':\n",
    "                idx_position = [i for i, val in enumerate(df_copy.EligiblePosition.str.contains('|'.join(fielders))) if val]\n",
    "            elif iunfilled == 'P':\n",
    "                idx_position = [i for i, val in enumerate(df_copy.EligiblePosition.str.contains('|'.join(pitchers))) if val]\n",
    "            elif iunfilled == 'BN':\n",
    "                idx_position = [i for i, val in enumerate(df_copy.EligiblePosition.str.contains('|'.join(fielders+pitchers))) if val]                \n",
    "            else:\n",
    "                idx_position = [i for i, val in enumerate(df_copy.EligiblePosition.str.contains(iunfilled)) if val] \n",
    "                filled = False\n",
    "                jdx = 0\n",
    "                while filled == False:\n",
    "                    if idx_position[jdx] in idx_eligible:\n",
    "                        jdx+=1\n",
    "                    else:\n",
    "                        idx_eligible.append(idx_position[jdx])\n",
    "                        pos_eligible.append(iunfilled)\n",
    "                        filled = True\n",
    "\n",
    "        # Get rid of doubles (1B and OF is particularly prone)\n",
    "        idx_eligible, idx_unique = np.unique(idx_eligible, return_index = True)\n",
    "        pos_eligible = [pos_eligible[i] for i in idx_unique]\n",
    "        print('Picking from:')\n",
    "        print(df_copy.iloc[idx_eligible])\n",
    "        \n",
    "        #################################\n",
    "        # START OF LOOP TO FIND BEST PLAYER\n",
    "        player_based_drafted_outcomes = {}\n",
    "        player_based_drafted_teams = {}\n",
    "\n",
    "        # Loop over eligible players, then finish the draft\n",
    "        for iposition, icounter in zip(idx_eligible, range(len(idx_eligible))):\n",
    "            \n",
    "            # make a copy of teams to finish drafting\n",
    "            #teams_loop = teams_copy.apply(deepcopy)\n",
    "            #df_loop = df_copy.apply(deepcopy)\n",
    "            teams_loop = copy.deepcopy(teams_copy) \n",
    "            #df_loop = copy.deepcopy(df_copy)\n",
    "            #teams_loop = teams_copy.copy()\n",
    "            df_loop = df_copy.copy()\n",
    "            \n",
    "            iplayer = df_loop.iloc[iposition].PLAYER\n",
    "\n",
    "            #pdb.set_trace()\n",
    "            # Draft looping through idx_eligible\n",
    "            df_loop,drafted_player=df_loop.drop(df_loop.iloc[iposition:iposition+1].index),df_loop.iloc[iposition:iposition+1]\n",
    "            position = pos_eligible[icounter]\n",
    "    \n",
    "            teams_loop[team_key] = self.draft_into_teams(teams_loop[team_key], drafted_player, position, show = False)\n",
    "\n",
    "            # LOOP OVER WHOLE REST OF THE DRAFT HERE...\n",
    "            #pdb.set_trace()\n",
    "            teams_loop, df_loop = self.draft_remaining(teams_loop, df_loop, round_key)\n",
    "            \n",
    "            # Calculate the best pseudo-standings\n",
    "            #pseudo_batting_stats, pseudo_pitching_stats, pseudo_standings, pseudo_placement = self.tabulate_roto(teams_loop)\n",
    "            roto_stats = self.tabulate_roto(teams_loop)\n",
    "            \n",
    "            #pdb.set_trace()\n",
    "            # Store the result. \n",
    "            player_based_drafted_teams[iplayer] = teams_loop[self.draft_position]['roster']\n",
    "            player_based_drafted_outcomes[iplayer] = [roto_stats[3],roto_stats[2][roto_stats[3]-1]]\n",
    "            print('Stored Result for Pick '+str(icounter)+' '+iplayer)\n",
    "            #pdb.set_trace()\n",
    "\n",
    "        # End of Loop \n",
    "        ranked_positions = ['C','2B','SS','OF','3B','1B','SP','RP','UTIL']\n",
    "        # Decide on best choice and return \n",
    "        \n",
    "        relative_scores = [player_based_drafted_outcomes[i][1] for i in player_based_drafted_outcomes]\n",
    "        relative_scores_rank = np.argsort(relative_scores)[::-1]\n",
    "\n",
    "        pdb.set_trace()\n",
    "        n_max_scores = sum(relative_scores == np.max(relative_scores))\n",
    "        if n_max_scores == 1:\n",
    "            best_player = df_copy.iloc[idx_eligible[relative_scores_rank[0]]]\n",
    "            best_pick = idx_eligible[relative_scores_rank[0]] + 1 # Avoid best_pick = 0\n",
    "            best_position = pos_eligible[relative_scores_rank[0]]             \n",
    "        else:\n",
    "            best_player_positions = [pos_eligible[relative_scores_rank[i]] for i in range(n_max_scores)] \n",
    "            for irank in range(len(ranked_positions)):\n",
    "                if any(ranked_positions[irank] in s for s in best_player_positions):\n",
    "                    best_player_idx = best_player_positions.index(ranked_positions[irank])\n",
    "                    best_player = df_copy.iloc[idx_eligible[relative_scores_rank[best_player_idx]]]\n",
    "                    best_pick = idx_eligible[relative_scores_rank[best_player_idx]] + 1 # Avoid best_pick = 0\n",
    "                    best_position = ranked_positions[irank]                    \n",
    "                    break\n",
    "        print('Best Pick is '+ best_player)\n",
    "        #pdb.set_trace()\n",
    "        return best_pick, best_position\n",
    "        # END OF LOOP TO FIND BEST PLAYER\n",
    "        #################################\n",
    "    \n",
    "    # Strategy is to take the best possible player, even if that means putting them in UTIL or BN (maybe BN should reconsidered...)\n",
    "    def draft_next_best(self, team_key, teams, df, force_pick = False, force_position = False):\n",
    "        \n",
    "        if (force_pick == False):\n",
    "            pick_ok = False\n",
    "            idf = 0\n",
    "            while (pick_ok == False):\n",
    "                df_copy = copy.deepcopy(df) #df.apply(deepcopy)\n",
    "                pick_ok = True\n",
    "\n",
    "                # Draft next in list.  Do this way (idf) so that if you don't take player, they are not removed for next picker\n",
    "                df_copy,drafted_player=df_copy.drop(df_copy.iloc[idf:idf+1].index),df_copy.iloc[idf:idf+1]\n",
    "                \n",
    "                # Debug statement\n",
    "                if drafted_player.iloc[0].PLAYER == 'Yonder Alonso':\n",
    "                    print(drafted_player.iloc[0].PLAYER)\n",
    "                    pdb.set_trace()\n",
    "                    \n",
    "                # Get eligible positions\n",
    "                eligible_positions = drafted_player.EligiblePosition.values[0]\n",
    "                \n",
    "                # Find best position opening.  Return 0 if no room\n",
    "                position = self.get_optimal_position(eligible_positions, teams[team_key]['roster_spots'])\n",
    "                \n",
    "                # Update Rosters with drafted_player, Loop otherwise\n",
    "                if position == 0:\n",
    "                    unfilled_positions = [k for (k,v) in self.teams[team_key]['roster_spots'].items() if v > 0]           \n",
    "                    #print('Not Drafting '+eligible_positions+\" \"+drafted_player.PLAYER+' for '+ \"/\".join(unfilled_positions))\n",
    "                    idf += 1\n",
    "                    if len(unfilled_positions) > 0:\n",
    "                        pick_ok = False\n",
    "                    else:\n",
    "                        pick_ok = True\n",
    "                        #pdb.set_trace()\n",
    "                else:\n",
    "                    #print('Team '+ str(team_key) +' Drafting '+drafted_player.iloc[0].PLAYER+' for '+position)                    \n",
    "                    df = df_copy                            \n",
    "                    pick_ok = True\n",
    "                    teams[team_key] = self.draft_into_teams(teams[team_key], drafted_player,position, show = False)\n",
    "                    \n",
    "        else:\n",
    "            print('Forcing Pick')\n",
    "            pick_ok = True\n",
    "            pick = force_pick - 1 \n",
    "            df,drafted_player=df.drop(df.iloc[pick:pick+1].index),df.iloc[pick:pick+1]\n",
    "            eligible_positions = drafted_player.EligiblePosition.values[0]\n",
    "            position = force_position #self.get_optimal_position(eligible_positions, teams[team_key]['roster_spots'])\n",
    "      \n",
    "            teams[team_key] = self.draft_into_teams(teams[team_key], drafted_player, position, show = False)\n",
    "            print('Team '+ str(team_key) +' force BEST pick '+drafted_player.iloc[0].PLAYER+' for '+position)\n",
    "\n",
    "        return teams, df\n",
    "    \n",
    "    def draft_into_teams(self, single_team, drafted_player, position, show = False):\n",
    "                \n",
    "        if show == True:\n",
    "            print('Picked '+drafted_player.iloc[0].PLAYER+' for '+position)\n",
    "            \n",
    "        # Different Stats Entries for Pitchers and Batters\n",
    "        if drafted_player.EligiblePosition.str.contains('P').bool() == True:\n",
    "            idx_player = self.player_projections.pitchers_stats.Name.values == drafted_player.iloc[0].PLAYER\n",
    "            statline = self.player_projections.pitchers_stats[idx_player][single_team['pitching_stats'].keys()]\n",
    "            single_team['pitching_stats'] = single_team['pitching_stats'].append(statline[0:1])\n",
    "\n",
    "        else:\n",
    "            idx_player = self.player_projections.hitters_stats.Name.values == drafted_player.iloc[0].PLAYER\n",
    "            statline = self.player_projections.hitters_stats[idx_player][single_team['batting_stats'].keys()]\n",
    "            single_team['batting_stats'] = single_team['batting_stats'].append(statline[0:1])        \n",
    "\n",
    "        # Eliminate one roster_spot\n",
    "        single_team['roster_spots'][position] -= 1\n",
    "\n",
    "        # Add Player to Roster\n",
    "        if position in single_team['roster']:\n",
    "            single_team['roster'][position] = [single_team['roster'][position], drafted_player.PLAYER.values[0:1]]\n",
    "        else:\n",
    "            single_team['roster'][position] = drafted_player.PLAYER.values[0:1]\n",
    "            \n",
    "        return single_team\n",
    "    \n",
    "    def get_optimal_position(self, positions_in, roster_spots):\n",
    "        # Return in the order of most valuable position to fill\n",
    "        single_positions = positions_in.split('/')\n",
    "        # Check Pitchers\n",
    "        P = False\n",
    "        if ('RP' in single_positions):\n",
    "            P = True\n",
    "            if (roster_spots['RP'] > 0):\n",
    "                return  'RP' \n",
    "        elif ('SP' in single_positions):\n",
    "            P = True\n",
    "            if (roster_spots['SP'] > 0):\n",
    "                return  'SP'\n",
    "        if P == True:\n",
    "            if (roster_spots['P'] > 0):\n",
    "                return  'P'\n",
    "            elif (roster_spots['BN'] > 0):\n",
    "                return 'BN'\n",
    "            else:\n",
    "                return 0\n",
    "        # Check Hitters\n",
    "        Util = False\n",
    "        if ('C' in single_positions):\n",
    "            Util = True\n",
    "            if (roster_spots['C'] > 0):\n",
    "                return  'C'\n",
    "        elif ('2B' in single_positions): \n",
    "            Util = True\n",
    "            if (roster_spots['2B'] > 0):\n",
    "                return  '2B'\n",
    "        elif ('SS' in single_positions):\n",
    "            Util = True\n",
    "            if (roster_spots['SS'] > 0):\n",
    "                return  'SS'\n",
    "        elif ('OF' in single_positions):\n",
    "            Util = True\n",
    "            if (roster_spots['OF'] > 0):\n",
    "                return  'OF'\n",
    "        elif ('3B' in single_positions):\n",
    "            Util = True\n",
    "            if (roster_spots['3B'] > 0):\n",
    "                return  '3B'\n",
    "        elif ('1B' in single_positions):\n",
    "            Util = True \n",
    "            if (roster_spots['1B'] > 0):\n",
    "                return  '1B'\n",
    "        elif ('Util' in single_positions):\n",
    "            Util = True \n",
    "            if (roster_spots['UTIL'] > 0):\n",
    "                return  'UTIL'                \n",
    "        if Util == True:\n",
    "            if (roster_spots['UTIL'] > 0):\n",
    "                return  'UTIL'\n",
    "            elif (roster_spots['BN'] > 0):\n",
    "                return 'BN'\n",
    "            else:\n",
    "                return 0\n",
    "        else:\n",
    "            return 0"
   ]
  },
  {
   "cell_type": "code",
   "execution_count": 86,
   "metadata": {},
   "outputs": [],
   "source": [
    "zipsS= Draft(player_ranking_zips, number_teams = 4, roster_spots = {'C':0,'1B':0,'2B':1, '3B':1,'SS':1,'OF':2,'UTIL':1,'SP':1,'RP':1,'P':1,'BN':1})\n",
    "zipsM= Draft(player_ranking_zips, number_teams = 6, roster_spots = {'C':1,'1B':1,'2B':1, '3B':1,'SS':1,'OF':3,'UTIL':1,'SP':2,'RP':2,'P':3,'BN':2})\n",
    "#zips = Draft(player_ranking_zips)\n",
    "#steam = Draft(player_ranking_steam, number_teams = 12)"
   ]
  },
  {
   "cell_type": "code",
   "execution_count": 87,
   "metadata": {},
   "outputs": [
    {
     "name": "stdout",
     "output_type": "stream",
     "text": [
      "> <ipython-input-85-7f308b8636db>(145)find_best_pick()\n",
      "-> fielders = ['C','1B','2B','3B','SS','OF','UTIL']\n"
     ]
    },
    {
     "name": "stdin",
     "output_type": "stream",
     "text": [
      "(Pdb)  cont\n"
     ]
    },
    {
     "name": "stdout",
     "output_type": "stream",
     "text": [
      "Picking from:\n",
      "                PLAYER EligiblePosition\n",
      "Rank                                   \n",
      "2         Mookie Betts               OF\n",
      "6       Anthony Rendon               3B\n",
      "9         Alex Bregman            3B/SS\n",
      "11    Justin Verlander               SP\n",
      "15     Whit Merrifield            2B/OF\n",
      "27       Roberto Osuna               RP\n",
      "Stored Result for Pick 0 Mookie Betts\n",
      "Stored Result for Pick 1 Anthony Rendon\n",
      "Stored Result for Pick 2 Alex Bregman\n",
      "Stored Result for Pick 3 Justin Verlander\n",
      "Stored Result for Pick 4 Whit Merrifield\n",
      "Stored Result for Pick 5 Roberto Osuna\n",
      "> <ipython-input-85-7f308b8636db>(221)find_best_pick()\n",
      "-> n_max_scores = sum(relative_scores == np.max(relative_scores))\n"
     ]
    },
    {
     "name": "stdin",
     "output_type": "stream",
     "text": [
      "(Pdb)  cont\n"
     ]
    },
    {
     "name": "stdout",
     "output_type": "stream",
     "text": [
      "PLAYER              Best Pick is Anthony Rendon\n",
      "EligiblePosition                Best Pick is 3B\n",
      "Name: 6, dtype: object\n",
      "Forcing Pick\n",
      "Team 1 force BEST pick Anthony Rendon for 3B\n",
      "> <ipython-input-85-7f308b8636db>(145)find_best_pick()\n",
      "-> fielders = ['C','1B','2B','3B','SS','OF','UTIL']\n"
     ]
    },
    {
     "name": "stdin",
     "output_type": "stream",
     "text": [
      "(Pdb)  cont\n"
     ]
    },
    {
     "name": "stdout",
     "output_type": "stream",
     "text": [
      "Picking from:\n",
      "                PLAYER EligiblePosition\n",
      "Rank                                   \n",
      "7       Cody Bellinger            1B/OF\n",
      "9         Alex Bregman            3B/SS\n",
      "11    Justin Verlander               SP\n",
      "15     Whit Merrifield            2B/OF\n",
      "27       Roberto Osuna               RP\n",
      "Stored Result for Pick 0 Cody Bellinger\n",
      "Stored Result for Pick 1 Alex Bregman\n",
      "Stored Result for Pick 2 Justin Verlander\n",
      "Stored Result for Pick 3 Whit Merrifield\n",
      "Stored Result for Pick 4 Roberto Osuna\n",
      "> <ipython-input-85-7f308b8636db>(221)find_best_pick()\n",
      "-> n_max_scores = sum(relative_scores == np.max(relative_scores))\n"
     ]
    },
    {
     "name": "stdin",
     "output_type": "stream",
     "text": [
      "(Pdb)  cont\n"
     ]
    },
    {
     "name": "stdout",
     "output_type": "stream",
     "text": [
      "PLAYER              Best Pick is Cody Bellinger\n",
      "EligiblePosition             Best Pick is 1B/OF\n",
      "Name: 7, dtype: object\n",
      "Forcing Pick\n",
      "Team 1 force BEST pick Cody Bellinger for OF\n",
      "> <ipython-input-85-7f308b8636db>(145)find_best_pick()\n",
      "-> fielders = ['C','1B','2B','3B','SS','OF','UTIL']\n"
     ]
    },
    {
     "name": "stdin",
     "output_type": "stream",
     "text": [
      "(Pdb)  cont\n"
     ]
    },
    {
     "name": "stdout",
     "output_type": "stream",
     "text": [
      "Picking from:\n",
      "                PLAYER EligiblePosition\n",
      "Rank                                   \n",
      "11    Justin Verlander               SP\n",
      "12       J.D. Martinez               OF\n",
      "14    Francisco Lindor               SS\n",
      "15     Whit Merrifield            2B/OF\n",
      "27       Roberto Osuna               RP\n",
      "Stored Result for Pick 0 Justin Verlander\n",
      "Stored Result for Pick 1 J.D. Martinez\n",
      "Stored Result for Pick 2 Francisco Lindor\n",
      "Stored Result for Pick 3 Whit Merrifield\n",
      "Stored Result for Pick 4 Roberto Osuna\n",
      "> <ipython-input-85-7f308b8636db>(221)find_best_pick()\n",
      "-> n_max_scores = sum(relative_scores == np.max(relative_scores))\n"
     ]
    },
    {
     "name": "stdin",
     "output_type": "stream",
     "text": [
      "(Pdb)  cont\n"
     ]
    },
    {
     "name": "stdout",
     "output_type": "stream",
     "text": [
      "PLAYER              Best Pick is Roberto Osuna\n",
      "EligiblePosition               Best Pick is RP\n",
      "Name: 27, dtype: object\n",
      "Forcing Pick\n",
      "Team 1 force BEST pick Roberto Osuna for RP\n",
      "> <ipython-input-85-7f308b8636db>(145)find_best_pick()\n",
      "-> fielders = ['C','1B','2B','3B','SS','OF','UTIL']\n"
     ]
    },
    {
     "name": "stdin",
     "output_type": "stream",
     "text": [
      "(Pdb)  cont\n"
     ]
    },
    {
     "name": "stdout",
     "output_type": "stream",
     "text": [
      "Picking from:\n",
      "                PLAYER EligiblePosition\n",
      "Rank                                   \n",
      "14    Francisco Lindor               SS\n",
      "15     Whit Merrifield            2B/OF\n",
      "16    Charlie Blackmon               OF\n",
      "20        Max Scherzer               SP\n",
      "Stored Result for Pick 0 Francisco Lindor\n",
      "Stored Result for Pick 1 Whit Merrifield\n",
      "Stored Result for Pick 2 Charlie Blackmon\n",
      "Stored Result for Pick 3 Max Scherzer\n",
      "> <ipython-input-85-7f308b8636db>(221)find_best_pick()\n",
      "-> n_max_scores = sum(relative_scores == np.max(relative_scores))\n"
     ]
    },
    {
     "name": "stdin",
     "output_type": "stream",
     "text": [
      "(Pdb)  cont\n"
     ]
    },
    {
     "name": "stdout",
     "output_type": "stream",
     "text": [
      "PLAYER              Best Pick is Charlie Blackmon\n",
      "EligiblePosition                  Best Pick is OF\n",
      "Name: 16, dtype: object\n",
      "Forcing Pick\n",
      "Team 1 force BEST pick Charlie Blackmon for OF\n",
      "> <ipython-input-85-7f308b8636db>(145)find_best_pick()\n",
      "-> fielders = ['C','1B','2B','3B','SS','OF','UTIL']\n"
     ]
    },
    {
     "name": "stdin",
     "output_type": "stream",
     "text": [
      "(Pdb)  cont\n"
     ]
    },
    {
     "name": "stdout",
     "output_type": "stream",
     "text": [
      "Picking from:\n",
      "            PLAYER EligiblePosition\n",
      "Rank                               \n",
      "17    Trevor Story               SS\n",
      "19     Jose Altuve               2B\n",
      "20    Max Scherzer               SP\n",
      "Stored Result for Pick 0 Trevor Story\n",
      "Stored Result for Pick 1 Jose Altuve\n",
      "Stored Result for Pick 2 Max Scherzer\n",
      "> <ipython-input-85-7f308b8636db>(221)find_best_pick()\n",
      "-> n_max_scores = sum(relative_scores == np.max(relative_scores))\n"
     ]
    },
    {
     "name": "stdin",
     "output_type": "stream",
     "text": [
      "(Pdb)  cont\n"
     ]
    },
    {
     "name": "stdout",
     "output_type": "stream",
     "text": [
      "PLAYER              Best Pick is Jose Altuve\n",
      "EligiblePosition             Best Pick is 2B\n",
      "Name: 19, dtype: object\n",
      "Forcing Pick\n",
      "Team 1 force BEST pick Jose Altuve for 2B\n",
      "> <ipython-input-85-7f308b8636db>(145)find_best_pick()\n",
      "-> fielders = ['C','1B','2B','3B','SS','OF','UTIL']\n"
     ]
    },
    {
     "name": "stdin",
     "output_type": "stream",
     "text": [
      "(Pdb)  cont\n"
     ]
    },
    {
     "name": "stdout",
     "output_type": "stream",
     "text": [
      "Picking from:\n",
      "             PLAYER EligiblePosition\n",
      "Rank                                \n",
      "22    Jack Flaherty               SP\n",
      "24      Ketel Marte         2B/SS/OF\n",
      "Stored Result for Pick 0 Jack Flaherty\n",
      "Stored Result for Pick 1 Ketel Marte\n",
      "> <ipython-input-85-7f308b8636db>(221)find_best_pick()\n",
      "-> n_max_scores = sum(relative_scores == np.max(relative_scores))\n"
     ]
    },
    {
     "name": "stdin",
     "output_type": "stream",
     "text": [
      "(Pdb)  cont\n"
     ]
    },
    {
     "name": "stdout",
     "output_type": "stream",
     "text": [
      "PLAYER              Best Pick is Jack Flaherty\n",
      "EligiblePosition               Best Pick is SP\n",
      "Name: 22, dtype: object\n",
      "Forcing Pick\n",
      "Team 1 force BEST pick Jack Flaherty for SP\n",
      "> <ipython-input-85-7f308b8636db>(145)find_best_pick()\n",
      "-> fielders = ['C','1B','2B','3B','SS','OF','UTIL']\n"
     ]
    },
    {
     "name": "stdin",
     "output_type": "stream",
     "text": [
      "(Pdb)  cont\n"
     ]
    },
    {
     "name": "stdout",
     "output_type": "stream",
     "text": [
      "Picking from:\n",
      "           PLAYER EligiblePosition\n",
      "Rank                              \n",
      "24    Ketel Marte         2B/SS/OF\n",
      "Stored Result for Pick 0 Ketel Marte\n",
      "> <ipython-input-85-7f308b8636db>(221)find_best_pick()\n",
      "-> n_max_scores = sum(relative_scores == np.max(relative_scores))\n"
     ]
    },
    {
     "name": "stdin",
     "output_type": "stream",
     "text": [
      "(Pdb)  cont\n"
     ]
    },
    {
     "name": "stdout",
     "output_type": "stream",
     "text": [
      "PLAYER              Best Pick is Ketel Marte\n",
      "EligiblePosition       Best Pick is 2B/SS/OF\n",
      "Name: 24, dtype: object\n",
      "Forcing Pick\n",
      "Team 1 force BEST pick Ketel Marte for SS\n",
      "> <ipython-input-85-7f308b8636db>(145)find_best_pick()\n",
      "-> fielders = ['C','1B','2B','3B','SS','OF','UTIL']\n"
     ]
    },
    {
     "name": "stdin",
     "output_type": "stream",
     "text": [
      "(Pdb)  cont\n"
     ]
    },
    {
     "name": "stdout",
     "output_type": "stream",
     "text": [
      "Picking from:\n",
      "Empty DataFrame\n",
      "Columns: [PLAYER, EligiblePosition]\n",
      "Index: []\n",
      "> <ipython-input-85-7f308b8636db>(221)find_best_pick()\n",
      "-> n_max_scores = sum(relative_scores == np.max(relative_scores))\n"
     ]
    },
    {
     "name": "stdin",
     "output_type": "stream",
     "text": [
      "(Pdb)  cont\n"
     ]
    },
    {
     "ename": "ValueError",
     "evalue": "zero-size array to reduction operation maximum which has no identity",
     "output_type": "error",
     "traceback": [
      "\u001b[0;31m---------------------------------------------------------------------------\u001b[0m",
      "\u001b[0;31mValueError\u001b[0m                                Traceback (most recent call last)",
      "\u001b[0;32m<ipython-input-87-ff4ff7fae2ca>\u001b[0m in \u001b[0;36m<module>\u001b[0;34m\u001b[0m\n\u001b[0;32m----> 1\u001b[0;31m \u001b[0mzipsS\u001b[0m\u001b[0;34m.\u001b[0m\u001b[0mdraft_all\u001b[0m\u001b[0;34m(\u001b[0m\u001b[0;34m)\u001b[0m\u001b[0;34m\u001b[0m\u001b[0;34m\u001b[0m\u001b[0m\n\u001b[0m",
      "\u001b[0;32m<ipython-input-85-7f308b8636db>\u001b[0m in \u001b[0;36mdraft_all\u001b[0;34m(self)\u001b[0m\n\u001b[1;32m     66\u001b[0m         \u001b[0;31m#teams_all = self.teams.copy()\u001b[0m\u001b[0;34m\u001b[0m\u001b[0;34m\u001b[0m\u001b[0;34m\u001b[0m\u001b[0m\n\u001b[1;32m     67\u001b[0m         \u001b[0;32mfor\u001b[0m \u001b[0miround\u001b[0m \u001b[0;32min\u001b[0m \u001b[0mnp\u001b[0m\u001b[0;34m.\u001b[0m\u001b[0marange\u001b[0m\u001b[0;34m(\u001b[0m\u001b[0mself\u001b[0m\u001b[0;34m.\u001b[0m\u001b[0mnumber_rounds\u001b[0m\u001b[0;34m)\u001b[0m\u001b[0;34m:\u001b[0m\u001b[0;34m\u001b[0m\u001b[0;34m\u001b[0m\u001b[0m\n\u001b[0;32m---> 68\u001b[0;31m             \u001b[0mself\u001b[0m\u001b[0;34m.\u001b[0m\u001b[0mteams\u001b[0m\u001b[0;34m,\u001b[0m \u001b[0mself\u001b[0m\u001b[0;34m.\u001b[0m\u001b[0mremaining_ranked_players\u001b[0m \u001b[0;34m=\u001b[0m \u001b[0mself\u001b[0m\u001b[0;34m.\u001b[0m\u001b[0mdraft_round\u001b[0m\u001b[0;34m(\u001b[0m\u001b[0miround\u001b[0m\u001b[0;34m,\u001b[0m \u001b[0mself\u001b[0m\u001b[0;34m.\u001b[0m\u001b[0mteams\u001b[0m\u001b[0;34m,\u001b[0m \u001b[0mself\u001b[0m\u001b[0;34m.\u001b[0m\u001b[0mremaining_ranked_players\u001b[0m\u001b[0;34m)\u001b[0m\u001b[0;34m\u001b[0m\u001b[0;34m\u001b[0m\u001b[0m\n\u001b[0m\u001b[1;32m     69\u001b[0m             \u001b[0mself\u001b[0m\u001b[0;34m.\u001b[0m\u001b[0mround_number\u001b[0m \u001b[0;34m+=\u001b[0m \u001b[0;36m1\u001b[0m\u001b[0;34m\u001b[0m\u001b[0;34m\u001b[0m\u001b[0m\n\u001b[1;32m     70\u001b[0m             \u001b[0;31m#pdb.set_trace()\u001b[0m\u001b[0;34m\u001b[0m\u001b[0;34m\u001b[0m\u001b[0;34m\u001b[0m\u001b[0m\n",
      "\u001b[0;32m<ipython-input-85-7f308b8636db>\u001b[0m in \u001b[0;36mdraft_round\u001b[0;34m(self, round_key, teams, df)\u001b[0m\n\u001b[1;32m     90\u001b[0m             \u001b[0;31m# When team is draft_position, search for best pick.\u001b[0m\u001b[0;34m\u001b[0m\u001b[0;34m\u001b[0m\u001b[0;34m\u001b[0m\u001b[0m\n\u001b[1;32m     91\u001b[0m             \u001b[0;32mif\u001b[0m \u001b[0miteam\u001b[0m \u001b[0;34m==\u001b[0m \u001b[0mself\u001b[0m\u001b[0;34m.\u001b[0m\u001b[0mdraft_position\u001b[0m\u001b[0;34m:\u001b[0m\u001b[0;34m\u001b[0m\u001b[0;34m\u001b[0m\u001b[0m\n\u001b[0;32m---> 92\u001b[0;31m                 \u001b[0mbest_pick\u001b[0m\u001b[0;34m,\u001b[0m \u001b[0mbest_position\u001b[0m \u001b[0;34m=\u001b[0m \u001b[0mself\u001b[0m\u001b[0;34m.\u001b[0m\u001b[0mfind_best_pick\u001b[0m\u001b[0;34m(\u001b[0m\u001b[0miteam\u001b[0m\u001b[0;34m,\u001b[0m \u001b[0mteams_copy\u001b[0m\u001b[0;34m,\u001b[0m \u001b[0mdf_copy\u001b[0m\u001b[0;34m,\u001b[0m \u001b[0mround_key\u001b[0m\u001b[0;34m)\u001b[0m\u001b[0;34m\u001b[0m\u001b[0;34m\u001b[0m\u001b[0m\n\u001b[0m\u001b[1;32m     93\u001b[0m                 \u001b[0;31m#print('Line 91 - Forcing Best Pick to be '+str(best_pick))\u001b[0m\u001b[0;34m\u001b[0m\u001b[0;34m\u001b[0m\u001b[0;34m\u001b[0m\u001b[0m\n\u001b[1;32m     94\u001b[0m                 \u001b[0;31m#pdb.set_trace()\u001b[0m\u001b[0;34m\u001b[0m\u001b[0;34m\u001b[0m\u001b[0;34m\u001b[0m\u001b[0m\n",
      "\u001b[0;32m<ipython-input-85-7f308b8636db>\u001b[0m in \u001b[0;36mfind_best_pick\u001b[0;34m(self, team_key, teams_copy, df_copy, round_key)\u001b[0m\n\u001b[1;32m    219\u001b[0m \u001b[0;34m\u001b[0m\u001b[0m\n\u001b[1;32m    220\u001b[0m         \u001b[0mpdb\u001b[0m\u001b[0;34m.\u001b[0m\u001b[0mset_trace\u001b[0m\u001b[0;34m(\u001b[0m\u001b[0;34m)\u001b[0m\u001b[0;34m\u001b[0m\u001b[0;34m\u001b[0m\u001b[0m\n\u001b[0;32m--> 221\u001b[0;31m         \u001b[0mn_max_scores\u001b[0m \u001b[0;34m=\u001b[0m \u001b[0msum\u001b[0m\u001b[0;34m(\u001b[0m\u001b[0mrelative_scores\u001b[0m \u001b[0;34m==\u001b[0m \u001b[0mnp\u001b[0m\u001b[0;34m.\u001b[0m\u001b[0mmax\u001b[0m\u001b[0;34m(\u001b[0m\u001b[0mrelative_scores\u001b[0m\u001b[0;34m)\u001b[0m\u001b[0;34m)\u001b[0m\u001b[0;34m\u001b[0m\u001b[0;34m\u001b[0m\u001b[0m\n\u001b[0m\u001b[1;32m    222\u001b[0m         \u001b[0;32mif\u001b[0m \u001b[0mn_max_scores\u001b[0m \u001b[0;34m==\u001b[0m \u001b[0;36m1\u001b[0m\u001b[0;34m:\u001b[0m\u001b[0;34m\u001b[0m\u001b[0;34m\u001b[0m\u001b[0m\n\u001b[1;32m    223\u001b[0m             \u001b[0mbest_player\u001b[0m \u001b[0;34m=\u001b[0m \u001b[0mdf_copy\u001b[0m\u001b[0;34m.\u001b[0m\u001b[0miloc\u001b[0m\u001b[0;34m[\u001b[0m\u001b[0midx_eligible\u001b[0m\u001b[0;34m[\u001b[0m\u001b[0mrelative_scores_rank\u001b[0m\u001b[0;34m[\u001b[0m\u001b[0;36m0\u001b[0m\u001b[0;34m]\u001b[0m\u001b[0;34m]\u001b[0m\u001b[0;34m]\u001b[0m\u001b[0;34m\u001b[0m\u001b[0;34m\u001b[0m\u001b[0m\n",
      "\u001b[0;32m<__array_function__ internals>\u001b[0m in \u001b[0;36mamax\u001b[0;34m(*args, **kwargs)\u001b[0m\n",
      "\u001b[0;32m~/opt/miniconda3/lib/python3.6/site-packages/numpy/core/fromnumeric.py\u001b[0m in \u001b[0;36mamax\u001b[0;34m(a, axis, out, keepdims, initial, where)\u001b[0m\n\u001b[1;32m   2619\u001b[0m     \"\"\"\n\u001b[1;32m   2620\u001b[0m     return _wrapreduction(a, np.maximum, 'max', axis, None, out,\n\u001b[0;32m-> 2621\u001b[0;31m                           keepdims=keepdims, initial=initial, where=where)\n\u001b[0m\u001b[1;32m   2622\u001b[0m \u001b[0;34m\u001b[0m\u001b[0m\n\u001b[1;32m   2623\u001b[0m \u001b[0;34m\u001b[0m\u001b[0m\n",
      "\u001b[0;32m~/opt/miniconda3/lib/python3.6/site-packages/numpy/core/fromnumeric.py\u001b[0m in \u001b[0;36m_wrapreduction\u001b[0;34m(obj, ufunc, method, axis, dtype, out, **kwargs)\u001b[0m\n\u001b[1;32m     88\u001b[0m                 \u001b[0;32mreturn\u001b[0m \u001b[0mreduction\u001b[0m\u001b[0;34m(\u001b[0m\u001b[0maxis\u001b[0m\u001b[0;34m=\u001b[0m\u001b[0maxis\u001b[0m\u001b[0;34m,\u001b[0m \u001b[0mout\u001b[0m\u001b[0;34m=\u001b[0m\u001b[0mout\u001b[0m\u001b[0;34m,\u001b[0m \u001b[0;34m**\u001b[0m\u001b[0mpasskwargs\u001b[0m\u001b[0;34m)\u001b[0m\u001b[0;34m\u001b[0m\u001b[0;34m\u001b[0m\u001b[0m\n\u001b[1;32m     89\u001b[0m \u001b[0;34m\u001b[0m\u001b[0m\n\u001b[0;32m---> 90\u001b[0;31m     \u001b[0;32mreturn\u001b[0m \u001b[0mufunc\u001b[0m\u001b[0;34m.\u001b[0m\u001b[0mreduce\u001b[0m\u001b[0;34m(\u001b[0m\u001b[0mobj\u001b[0m\u001b[0;34m,\u001b[0m \u001b[0maxis\u001b[0m\u001b[0;34m,\u001b[0m \u001b[0mdtype\u001b[0m\u001b[0;34m,\u001b[0m \u001b[0mout\u001b[0m\u001b[0;34m,\u001b[0m \u001b[0;34m**\u001b[0m\u001b[0mpasskwargs\u001b[0m\u001b[0;34m)\u001b[0m\u001b[0;34m\u001b[0m\u001b[0;34m\u001b[0m\u001b[0m\n\u001b[0m\u001b[1;32m     91\u001b[0m \u001b[0;34m\u001b[0m\u001b[0m\n\u001b[1;32m     92\u001b[0m \u001b[0;34m\u001b[0m\u001b[0m\n",
      "\u001b[0;31mValueError\u001b[0m: zero-size array to reduction operation maximum which has no identity"
     ]
    }
   ],
   "source": [
    "zipsS.draft_all()"
   ]
  },
  {
   "cell_type": "code",
   "execution_count": 17,
   "metadata": {},
   "outputs": [],
   "source": [
    "zipsM.draft_all()"
   ]
  },
  {
   "cell_type": "code",
   "execution_count": 19,
   "metadata": {},
   "outputs": [
    {
     "data": {
      "text/plain": [
       "{'3B': array(['Anthony Rendon'], dtype=object),\n",
       " 'OF': [[array(['Cody Bellinger'], dtype=object),\n",
       "   array(['Michael Conforto'], dtype=object)],\n",
       "  array(['Michael Brantley'], dtype=object)],\n",
       " 'SS': array(['Fernando Tatis'], dtype=object),\n",
       " '2B': array(['Jose Altuve'], dtype=object),\n",
       " 'UTIL': array(['José Ramírez'], dtype=object),\n",
       " 'BN': [array(['Ozzie Albies'], dtype=object),\n",
       "  array(['Jeff McNeil'], dtype=object)],\n",
       " 'RP': [array(['Aroldis Chapman'], dtype=object),\n",
       "  array(['Taylor Rogers'], dtype=object)],\n",
       " 'P': [[array(['Nick Anderson'], dtype=object),\n",
       "   array(['Drew Pomeranz'], dtype=object)],\n",
       "  array(['Tyler Duffey'], dtype=object)],\n",
       " '1B': array(['Carlos Santana'], dtype=object),\n",
       " 'SP': [array(['Chris Paddack'], dtype=object),\n",
       "  array(['Brandon Woodruff'], dtype=object)],\n",
       " 'C': array(['J.T. Realmuto'], dtype=object)}"
      ]
     },
     "execution_count": 19,
     "metadata": {},
     "output_type": "execute_result"
    }
   ],
   "source": [
    "zipsM.teams[5]['roster']"
   ]
  },
  {
   "cell_type": "code",
   "execution_count": 523,
   "metadata": {},
   "outputs": [],
   "source": [
    "zips2.draft_all()"
   ]
  },
  {
   "cell_type": "code",
   "execution_count": 844,
   "metadata": {},
   "outputs": [
    {
     "data": {
      "text/plain": [
       "{'OF': [['Juan Soto', 'Yordan Alvarez'], 'Giancarlo Stanton'],\n",
       " 'SP': ['Max Scherzer', 'Corey Kluber'],\n",
       " 'RP': ['Seth Lugo', 'Brandon Workman'],\n",
       " '3B': 'Vladimir Guerrero',\n",
       " 'P': [['Kenley Jansen', 'Ian Kennedy'], 'Craig Kimbrel'],\n",
       " 'BN': [[[['Chris Martin', 'José Berríos'], 'Charlie Morton'], 'Randy Dobnak'],\n",
       "  'Seranthony Domínguez'],\n",
       " 'SS': 'Carlos Correa',\n",
       " '2B': 'Jonathan Villar',\n",
       " 'UTIL': 'Yasiel Puig',\n",
       " '1B': 'Eric Hosmer',\n",
       " 'C': 'Mitch Garver'}"
      ]
     },
     "execution_count": 844,
     "metadata": {},
     "output_type": "execute_result"
    }
   ],
   "source": [
    "zips2.teams[4]['roster']"
   ]
  },
  {
   "cell_type": "code",
   "execution_count": 526,
   "metadata": {},
   "outputs": [
    {
     "data": {
      "text/plain": [
       "{'OF': [['Juan Soto', 'Yordan Alvarez'], 'Giancarlo Stanton'],\n",
       " 'SP': ['Max Scherzer', 'Corey Kluber'],\n",
       " 'RP': ['Seth Lugo', 'Brandon Workman'],\n",
       " '3B': 'Vladimir Guerrero',\n",
       " 'P': [['Kenley Jansen', 'Ian Kennedy'], 'Craig Kimbrel'],\n",
       " 'BN': [[[['Chris Martin', 'José Berríos'], 'Charlie Morton'], 'Randy Dobnak'],\n",
       "  'Seranthony Domínguez'],\n",
       " 'SS': 'Carlos Correa',\n",
       " '2B': 'Jonathan Villar',\n",
       " 'UTIL': 'Yasiel Puig',\n",
       " '1B': 'Eric Hosmer',\n",
       " 'C': 'Mitch Garver'}"
      ]
     },
     "execution_count": 526,
     "metadata": {},
     "output_type": "execute_result"
    }
   ],
   "source": [
    "zips.teams[4]['roster']"
   ]
  },
  {
   "cell_type": "code",
   "execution_count": 7,
   "metadata": {},
   "outputs": [],
   "source": [
    "steam.draft_all()"
   ]
  },
  {
   "cell_type": "code",
   "execution_count": 8,
   "metadata": {},
   "outputs": [
    {
     "data": {
      "text/plain": [
       "9"
      ]
     },
     "execution_count": 8,
     "metadata": {},
     "output_type": "execute_result"
    }
   ],
   "source": [
    "steam.roto_placement"
   ]
  },
  {
   "cell_type": "code",
   "execution_count": 8,
   "metadata": {},
   "outputs": [
    {
     "data": {
      "text/plain": [
       "0     171.0\n",
       "9     163.0\n",
       "7     156.0\n",
       "1     144.5\n",
       "10    143.0\n",
       "4     123.0\n",
       "6     117.0\n",
       "11    114.5\n",
       "3     114.0\n",
       "8     108.0\n",
       "2     103.5\n",
       "5     102.5\n",
       "dtype: float64"
      ]
     },
     "execution_count": 8,
     "metadata": {},
     "output_type": "execute_result"
    }
   ],
   "source": [
    "zips.roto_standings"
   ]
  },
  {
   "cell_type": "code",
   "execution_count": 9,
   "metadata": {},
   "outputs": [
    {
     "data": {
      "text/plain": [
       "0     180.0\n",
       "9     162.0\n",
       "10    153.0\n",
       "11    140.5\n",
       "1     130.0\n",
       "4     125.0\n",
       "7     122.0\n",
       "3     122.0\n",
       "2     116.5\n",
       "6     115.0\n",
       "5     114.0\n",
       "8      80.0\n",
       "dtype: float64"
      ]
     },
     "execution_count": 9,
     "metadata": {},
     "output_type": "execute_result"
    }
   ],
   "source": [
    "steam.roto_standings"
   ]
  },
  {
   "cell_type": "code",
   "execution_count": 10,
   "metadata": {},
   "outputs": [
    {
     "data": {
      "text/plain": [
       "{'1B': 'Cody Bellinger',\n",
       " 'SS': 'Fernando Tatis',\n",
       " '2B': 'Ozzie Albies',\n",
       " 'RP': ['Aroldis Chapman', 'Tyler Duffey'],\n",
       " 'UTIL': 'Carlos Santana',\n",
       " 'SP': ['Drew Pomeranz', 'Brandon Woodruff'],\n",
       " 'P': [['Zack Britton', 'John Brebbia'], 'Colin Poche'],\n",
       " 'BN': [[[['Yoan López', 'Keynan Middleton'], 'Mark Melancon'], 'Luis Patiño'],\n",
       "  'Tyler Rogers'],\n",
       " '3B': 'Luis Arraez',\n",
       " 'OF': [['Nick Senzel', 'Willie Calhoun'], 'Franmil Reyes'],\n",
       " 'C': 'Carson Kelly'}"
      ]
     },
     "execution_count": 10,
     "metadata": {},
     "output_type": "execute_result"
    }
   ],
   "source": [
    "steam.teams[6]['roster']"
   ]
  },
  {
   "cell_type": "raw",
   "metadata": {},
   "source": [
    "path_yahoo = '/Users/marcoviero/data/baseball/Fangraphs/projections/2020/Yahoo/'\n",
    "daya = pd.read_table(path_yahoo+'Yahoo_Roto_Ranking_2020.txt')"
   ]
  },
  {
   "cell_type": "raw",
   "metadata": {},
   "source": [
    "yahoo_df = pd.DataFrame(columns=['Rank','PLAYER','ELIG. POS.'])\n",
    "for i in np.arange(len(daya)):\n",
    "    posn = daya.iloc[i].values[0].split(' - ')\n",
    "    prts = posn[0].split(' ')\n",
    "    d = {'Rank':float(prts[0]), 'PLAYER':str(prts[1]+' '+prts[2]), 'ELIG. POS.':posn[1].replace(',','/')}\n",
    "    yahoo_df = yahoo_df.append(d, ignore_index = True)"
   ]
  },
  {
   "cell_type": "raw",
   "metadata": {},
   "source": [
    "yahoo_df_sorted = yahoo_df.iloc[yahoo_df.Rank.argsort()]"
   ]
  },
  {
   "cell_type": "raw",
   "metadata": {},
   "source": [
    "yahoo_df_sorted.to_csv(path_yahoo+'Yahoo_Roto_Ranking_2020.csv',index=False)"
   ]
  },
  {
   "cell_type": "code",
   "execution_count": null,
   "metadata": {},
   "outputs": [],
   "source": [
    "    \n",
    "    # Strategy is to take the best possible player, even if that means putting them in UTIL or BN (maybe BN should reconsidered...)\n",
    "    def draft_next_best_old(self, team_key, teams = 'teams', df = pd.DataFrame(), force_pick = False):\n",
    "                \n",
    "        if bool(teams == 'teams'):\n",
    "            teams = self.teams\n",
    "        \n",
    "        if df.empty == True:\n",
    "            df = self.remaining_ranked_players\n",
    "\n",
    "        if (force_pick == False):\n",
    "            pick_ok = False\n",
    "            idf = 0\n",
    "            while pick_ok == False:\n",
    "                df_copy = df.copy()\n",
    "                pick_ok = True\n",
    "                #print('Round '+str(self.round_number))\n",
    "\n",
    "                df_copy,drafted_player=df_copy.drop(df_copy.iloc[idf:idf+1].index),df_copy.iloc[idf:idf+1]\n",
    "                eligible_positions = drafted_player.EligiblePosition.values[0]\n",
    "                \n",
    "\n",
    "                if eligible_positions == 'Util':\n",
    "                    open_positions = [teams[team_key]['roster_spots']['UTIL']]\n",
    "                else:\n",
    "                    open_positions = [teams[team_key]['roster_spots'][i] for i in eligible_positions.split('/')]\n",
    "                \n",
    "                # If there are no SP, RP, or Fielding Positions left, try P, UTIL, or BN\n",
    "                if np.sum(open_positions) == 0:\n",
    "                    if drafted_player.EligiblePosition.str.contains('P').bool() == True:\n",
    "                        if teams[team_key]['roster_spots']['P'] > 0:\n",
    "                            position = 'P'\n",
    "                            df = df_copy\n",
    "                        elif teams[team_key]['roster_spots']['BN'] > 0:\n",
    "                            position = 'BN'\n",
    "                            df = df_copy\n",
    "                        else:\n",
    "                            position = 'No Roster Spots Left'\n",
    "                            pick_ok = False\n",
    "                            \n",
    "                    else:\n",
    "                        if teams[team_key]['roster_spots']['UTIL'] > 0:\n",
    "                            position = 'UTIL'\n",
    "                            df = df_copy\n",
    "                        elif teams[team_key]['roster_spots']['BN'] > 0:\n",
    "                            position = 'BN'\n",
    "                            df = df_copy\n",
    "                        else:\n",
    "                            position = 'No Roster Spots Left'\n",
    "                            pick_ok = False\n",
    "\n",
    "                else:\n",
    "\n",
    "                    df = df_copy                            \n",
    "                    position = self.get_optimal_position(eligible_positions, teams[team_key]['roster_spots'])\n",
    "                    #print(drafted_player.PLAYER+' is a '+position)\n",
    "                    pick_ok = True\n",
    "\n",
    "                if pick_ok == True:\n",
    "                    # Check if Position is a Pitcher or Batter\n",
    "                    if drafted_player.EligiblePosition.str.contains('P').bool() == True:\n",
    "                        idx_player = self.player_projections.pitchers_stats.Name.values == drafted_player.iloc[0].PLAYER\n",
    "                        statline = self.player_projections.pitchers_stats[idx_player][self.teams[team_key]['pitching_stats'].keys()]\n",
    "                        teams[team_key]['pitching_stats'] = teams[team_key]['pitching_stats'].append(statline[0:1])\n",
    "\n",
    "                    else:\n",
    "                        idx_player = self.player_projections.hitters_stats.Name.values == drafted_player.iloc[0].PLAYER\n",
    "                        statline = self.player_projections.hitters_stats[idx_player][self.teams[team_key]['batting_stats'].keys()]\n",
    "                        teams[team_key]['batting_stats'] = teams[team_key]['batting_stats'].append(statline[0:1])\n",
    "                        #pdb.set_trace()\n",
    "                    #print('Team '+ str(team_key) +' Drafting '+drafted_player.iloc[0].PLAYER+' for '+position)\n",
    "                else:\n",
    "                    #print('Not Drafting '+drafted_player.PLAYER+' for '+position)\n",
    "                    # Try while loop again after incrementing idf\n",
    "                    idf += 1\n",
    "\n",
    "        else:\n",
    "            #pdb.set_trace()\n",
    "            pick = force_pick - 1 \n",
    "            df,drafted_player=df.drop(df.iloc[pick:pick+1].index),df.iloc[pick:pick+1]\n",
    "            eligible_positions = drafted_player.EligiblePosition.values[0]\n",
    "            position = self.get_optimal_position(eligible_positions, teams[team_key]['roster_spots'])\n",
    "            \n",
    "            if drafted_player.EligiblePosition.str.contains('P').bool() == True:\n",
    "                idx_player = self.player_projections.pitchers_stats.Name.values == drafted_player.iloc[0].PLAYER\n",
    "                statline = self.player_projections.pitchers_stats[idx_player][teams[team_key]['pitching_stats'].keys()]\n",
    "                teams[team_key]['pitching_stats'] = teams[team_key]['pitching_stats'].append(statline[0:1])\n",
    "\n",
    "            else:\n",
    "                idx_player = self.player_projections.hitters_stats.Name.values == drafted_player.iloc[0].PLAYER\n",
    "                statline = self.player_projections.hitters_stats[idx_player][teams[team_key]['batting_stats'].keys()]\n",
    "                teams[team_key]['batting_stats'] = teams[team_key]['batting_stats'].append(statline[0:1])        \n",
    "                \n",
    "            print('Team '+ str(team_key) +' FORCED to pick '+drafted_player.iloc[0].PLAYER+' for '+position)\n",
    "        \n",
    "        # Eliminate one roster_spot\n",
    "        teams[team_key]['roster_spots'][position] -= 1\n",
    "\n",
    "        # Add Player to Roster\n",
    "        if position in self.teams[team_key]['roster']:\n",
    "            teams[team_key]['roster'][position] = [teams[team_key]['roster'][position], drafted_player.PLAYER.values[0]]\n",
    "        else:\n",
    "            teams[team_key]['roster'][position] = drafted_player.PLAYER.values[0]\n",
    "            \n",
    "        return teams, df"
   ]
  },
  {
   "cell_type": "code",
   "execution_count": null,
   "metadata": {},
   "outputs": [],
   "source": [
    "\n",
    "    # Strategy is to take the best possible player, even if that means putting them in UTIL or BN (maybe BN should reconsidered...)\n",
    "    def draft_next_best_second(self, team_key, teams = 'teams', df = pd.DataFrame(), force_pick = False):\n",
    "        \n",
    "        #pdb.set_trace()\n",
    "        if bool(teams == 'teams'):\n",
    "            teams = self.teams.copy()\n",
    "        \n",
    "        if df.empty == True:\n",
    "            df = self.player_projections.all_rank #self.remaining_ranked_players.copy()\n",
    "\n",
    "        df.head()\n",
    "        if (force_pick == False):\n",
    "            pick_ok = False\n",
    "            idf = 0\n",
    "            while (pick_ok == False) & (len([k for (k,v) in self.teams[team_key]['roster_spots'].items() if v > 0]) > 0):\n",
    "                df_copy = df.copy()\n",
    "                pick_ok = True\n",
    "\n",
    "                # Draft next in list.  Do this way (idf) so that if you don't take player, they are not removed for next picker\n",
    "                df_copy,drafted_player=df_copy.drop(df_copy.iloc[idf:idf+1].index),df_copy.iloc[idf:idf+1]\n",
    "                \n",
    "                # Get eligible positions\n",
    "                eligible_positions = drafted_player.EligiblePosition.values[0]\n",
    "                \n",
    "                # Find best position opening.  Return 0 if no room\n",
    "                position = self.get_optimal_position(eligible_positions, teams[team_key]['roster_spots'])\n",
    "                \n",
    "                # Update Rosters with drafted_player, Loop otherwise\n",
    "                if position == 0:\n",
    "                    unfilled_positions = [k for (k,v) in self.teams[team_key]['roster_spots'].items() if v > 0]           \n",
    "                    #print('Not Drafting '+eligible_positions+\" \"+drafted_player.PLAYER+' for '+ \"/\".join(unfilled_positions))\n",
    "                    idf += 1\n",
    "                    pick_ok = False\n",
    "                else:\n",
    "                    #print('Team '+ str(team_key) +' Drafting '+drafted_player.iloc[0].PLAYER+' for '+position)                    \n",
    "                    df = df_copy                            \n",
    "                    pick_ok = True\n",
    "                    # Check if Position is a Pitcher or Batter\n",
    "                    if drafted_player.EligiblePosition.str.contains('P').bool() == True:\n",
    "                        idx_player = self.player_projections.pitchers_stats.Name.values == drafted_player.iloc[0].PLAYER\n",
    "                        statline = self.player_projections.pitchers_stats[idx_player][self.teams[team_key]['pitching_stats'].keys()]\n",
    "                        teams[team_key]['pitching_stats'] = teams[team_key]['pitching_stats'].append(statline[0:1])\n",
    "\n",
    "                    else:\n",
    "                        idx_player = self.player_projections.hitters_stats.Name.values == drafted_player.iloc[0].PLAYER\n",
    "                        statline = self.player_projections.hitters_stats[idx_player][self.teams[team_key]['batting_stats'].keys()]\n",
    "                        teams[team_key]['batting_stats'] = teams[team_key]['batting_stats'].append(statline[0:1])\n",
    "                        #pdb.set_trace()\n",
    "        else:\n",
    "            pdb.set_trace()\n",
    "            pick = force_pick -1 \n",
    "            df,drafted_player=df.drop(df.iloc[pick:pick+1].index),df.iloc[pick:pick+1]\n",
    "            eligible_positions = drafted_player.EligiblePosition.values[0]\n",
    "            position = self.get_optimal_position(eligible_positions, teams[team_key]['roster_spots'])\n",
    "            \n",
    "            if drafted_player.EligiblePosition.str.contains('P').bool() == True:\n",
    "                idx_player = self.player_projections.pitchers_stats.Name.values == drafted_player.iloc[0].PLAYER\n",
    "                statline = self.player_projections.pitchers_stats[idx_player][teams[team_key]['pitching_stats'].keys()]\n",
    "                teams[team_key]['pitching_stats'] = teams[team_key]['pitching_stats'].append(statline[0:1])\n",
    "\n",
    "            else:\n",
    "                idx_player = self.player_projections.hitters_stats.Name.values == drafted_player.iloc[0].PLAYER\n",
    "                statline = self.player_projections.hitters_stats[idx_player][teams[team_key]['batting_stats'].keys()]\n",
    "                teams[team_key]['batting_stats'] = teams[team_key]['batting_stats'].append(statline[0:1])        \n",
    "                \n",
    "            print('Team '+ str(team_key) +' force BEST pick '+drafted_player.iloc[0].PLAYER+' for '+position)\n",
    "        \n",
    "        # Eliminate one roster_spot\n",
    "        teams[team_key]['roster_spots'][position] -= 1\n",
    "\n",
    "        # Add Player to Roster\n",
    "        if position in self.teams[team_key]['roster']:\n",
    "            teams[team_key]['roster'][position] = [teams[team_key]['roster'][position], drafted_player.PLAYER.values[0]]\n",
    "        else:\n",
    "            teams[team_key]['roster'][position] = drafted_player.PLAYER.values[0]\n",
    "            \n",
    "        return teams, df"
   ]
  }
 ],
 "metadata": {
  "kernelspec": {
   "display_name": "Python 3",
   "language": "python",
   "name": "python3"
  },
  "language_info": {
   "codemirror_mode": {
    "name": "ipython",
    "version": 3
   },
   "file_extension": ".py",
   "mimetype": "text/x-python",
   "name": "python",
   "nbconvert_exporter": "python",
   "pygments_lexer": "ipython3",
   "version": "3.6.7"
  }
 },
 "nbformat": 4,
 "nbformat_minor": 4
}
