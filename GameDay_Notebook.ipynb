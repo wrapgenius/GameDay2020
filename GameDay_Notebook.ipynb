{
 "cells": [
  {
   "cell_type": "code",
   "execution_count": 1,
   "metadata": {},
   "outputs": [],
   "source": [
    "import pdb\n",
    "import os\n",
    "import sys\n",
    "import pandas as pd\n",
    "pd.options.mode.chained_assignment = None\n",
    "import numpy as np\n",
    "from copy import deepcopy\n",
    "import copy\n",
    "from GameDayFunctions.fangraphs_projection_2020 import Projection\n",
    "from GameDayFunctions.draft_2020 import Draft"
   ]
  },
  {
   "cell_type": "code",
   "execution_count": 2,
   "metadata": {},
   "outputs": [],
   "source": [
    "year = 2020\n",
    "path_data = \"projections/\""
   ]
  },
  {
   "cell_type": "code",
   "execution_count": 3,
   "metadata": {},
   "outputs": [],
   "source": [
    "player_ranking_zips = Projection(path_data=path_data,year=year,model='ZiPS')\n",
    "player_ranking_steam = Projection(path_data=path_data,year=year,model='Steamer')"
   ]
  },
  {
   "cell_type": "code",
   "execution_count": 4,
   "metadata": {},
   "outputs": [
    {
     "name": "stdout",
     "output_type": "stream",
     "text": [
      "Team 1 picking Mike Trout for OF\n",
      "Team 2 picking Mookie Betts for OF\n",
      "Team 3 picking Alex Bregman for SS\n",
      "Team 4 picking Anthony Rendon for 3B\n",
      "Team 5 picking Nolan Arenado for 3B\n",
      "Team 6 picking Jacob deGrom for SP\n",
      "Team 7 picking Christian Yelich for OF\n",
      "Team 8 picking Juan Soto for OF\n",
      "Team 9 picking Cody Bellinger for OF\n",
      "Team 10 picking Ronald Acuña for OF\n",
      "Team 11 picking Justin Verlander for SP\n",
      "Team 12 picking Francisco Lindor for SS\n",
      "Team 12 picking Jose Altuve for 2B\n",
      "Team 11 picking Max Scherzer for SP\n",
      "Team 10 picking Fernando Tatis for SS\n",
      "Team 9 picking Trevor Story for SS\n",
      "Team 8 picking Charlie Blackmon for OF\n",
      "Team 7 picking Whit Merrifield for 2B\n",
      "Team 6 picking Freddie Freeman for 1B\n",
      "Finding Best Pick For Team 5\n",
      "Stored Result for Pick 0 J.D. Martinez OF whose score is [6, 111.0]\n",
      "Stored Result for Pick 1 Xander Bogaerts SS whose score is [10, 142.0]\n",
      "Stored Result for Pick 2 Jack Flaherty SP whose score is [12, 136.0]\n",
      "Stored Result for Pick 3 Walker Buehler P whose score is [12, 136.0]\n",
      "Stored Result for Pick 4 Ketel Marte 2B whose score is [8, 161.5]\n",
      "Stored Result for Pick 5 Rafael Devers UTIL whose score is [4, 136.0]\n",
      "Stored Result for Pick 6 Trea Turner BN whose score is [10, 156.5]\n",
      "Stored Result for Pick 7 Roberto Osuna RP whose score is [12, 135.0]\n",
      "Stored Result for Pick 8 DJ LeMahieu 1B whose score is [11, 123.0]\n",
      "Stored Result for Pick 9 J.T. Realmuto C whose score is [11, 178.0]\n",
      "Team 5 picking Rafael Devers for UTIL\n",
      "Best Pick is Rafael Devers putting you in 4 place\n"
     ]
    }
   ],
   "source": [
    "zipsT = Draft(player_ranking_zips, draft_position = 5)\n",
    "df  = zipsT.remaining_ranked_players\n",
    "player_to_pick, projected_roto_stats = zipsT.draft_from_list_and_find_best_pick(draft_pick_file = 'TestPicksround2.xlsx', path_list = '/Users/marcoviero/Dropbox/Baseball_Notebooks/GameDay2020/Draft_Pick_Spreadsheets/')"
   ]
  },
  {
   "cell_type": "code",
   "execution_count": 5,
   "metadata": {},
   "outputs": [
    {
     "name": "stdout",
     "output_type": "stream",
     "text": [
      "Team 1 picking Mike Trout for OF\n",
      "Team 2 picking Mookie Betts for OF\n",
      "Team 3 picking Alex Bregman for SS\n",
      "Team 4 picking Anthony Rendon for 3B\n",
      "Team 5 picking Nolan Arenado for 3B\n",
      "Team 6 picking Jacob deGrom for SP\n",
      "Team 7 picking Christian Yelich for OF\n",
      "Team 8 picking Juan Soto for OF\n",
      "Team 9 picking Cody Bellinger for OF\n",
      "Team 10 picking Ronald Acuña for OF\n",
      "Team 11 picking Justin Verlander for SP\n",
      "Team 12 picking Francisco Lindor for SS\n",
      "Team 12 picking Jose Altuve for 2B\n",
      "Team 11 picking Max Scherzer for SP\n",
      "Team 10 picking Fernando Tatis for SS\n",
      "Team 9 picking Trevor Story for SS\n",
      "Team 8 picking Charlie Blackmon for OF\n",
      "Team 7 picking Whit Merrifield for 2B\n",
      "Team 6 picking Freddie Freeman for 1B\n",
      "Team 5 picking Trea Turner for SS\n",
      "Team 4 picking Bryce Harper for OF\n",
      "Team 3 picking Chris Sale for SP\n",
      "Team 2 picking Walker Buehler for SP\n",
      "Team 1 picking Shane Bieber for SP\n",
      "Team 1 picking Stephen Strasburg for SP\n",
      "Team 2 picking Josh Hader for RP\n",
      "Team 3 picking Rafael Devers for 3B\n",
      "Team 4 picking Ketel Marte for 2B\n",
      "Finding Best Pick For Team 5\n",
      "Stored Result for Pick 0 J.D. Martinez OF whose score is [7, 97.0]\n",
      "Stored Result for Pick 1 Xander Bogaerts UTIL whose score is [1, 134.5]\n",
      "Stored Result for Pick 2 Jack Flaherty SP whose score is [7, 97.0]\n",
      "Stored Result for Pick 3 Roberto Osuna RP whose score is [7, 97.0]\n",
      "Stored Result for Pick 4 Bryan Reynolds BN whose score is [3, 152.0]\n",
      "Stored Result for Pick 5 Ozzie Albies 2B whose score is [3, 151.5]\n",
      "Stored Result for Pick 6 Kirby Yates P whose score is [11, 111.5]\n",
      "Stored Result for Pick 7 DJ LeMahieu 1B whose score is [4, 133.5]\n",
      "Stored Result for Pick 8 J.T. Realmuto C whose score is [5, 140.0]\n",
      "Team 5 picking Xander Bogaerts for UTIL\n",
      "Best Pick is Xander Bogaerts putting you in 1 place\n"
     ]
    }
   ],
   "source": [
    "zipsT = Draft(player_ranking_zips, draft_position = 5)\n",
    "df  = zipsT.remaining_ranked_players\n",
    "player_to_pick, projected_roto_stats = zipsT.draft_from_list_and_find_best_pick(draft_pick_file = 'TestPicksround3.xlsx', path_list = '/Users/marcoviero/Dropbox/Baseball_Notebooks/GameDay2020/Draft_Pick_Spreadsheets/')"
   ]
  },
  {
   "cell_type": "code",
   "execution_count": 6,
   "metadata": {},
   "outputs": [
    {
     "name": "stdout",
     "output_type": "stream",
     "text": [
      "Team 1 picking Mike Trout for OF\n",
      "Team 2 picking Mookie Betts for OF\n",
      "Team 3 picking Alex Bregman for SS\n",
      "Team 4 picking Anthony Rendon for 3B\n",
      "Team 5 picking Nolan Arenado for 3B\n",
      "Team 6 picking Jacob deGrom for SP\n",
      "Team 7 picking Christian Yelich for OF\n",
      "Team 8 picking Gerrit Cole for SP\n",
      "Team 9 picking Cody Bellinger for OF\n",
      "Team 10 picking Juan Soto for OF\n",
      "Team 11 picking Justin Verlander for SP\n",
      "Team 12 picking Francisco Lindor for SS\n",
      "Team 12 picking Jose Altuve for 2B\n",
      "Team 11 picking Max Scherzer for SP\n",
      "Team 10 picking Ronald Acuña for OF\n",
      "Team 9 picking Trevor Story for SS\n",
      "Team 8 picking Charlie Blackmon for OF\n",
      "Team 7 picking Whit Merrifield for 2B\n",
      "Team 6 picking Freddie Freeman for 1B\n",
      "Team 5 picking Trea Turner for SS\n",
      "Team 4 picking Bryce Harper for OF\n",
      "Team 3 picking Chris Sale for SP\n",
      "Team 2 picking Walker Buehler for SP\n",
      "Team 1 picking Shane Bieber for SP\n",
      "Team 1 picking Stephen Strasburg for SP\n",
      "Team 2 picking Josh Hader for RP\n",
      "Team 3 picking Rafael Devers for 3B\n",
      "Team 4 picking Fernando Tatis for SS\n",
      "Team 5 picking Ketel Marte for 2B\n",
      "Team 6 picking Jack Flaherty for SP\n",
      "Team 7 picking Kirby Yates for RP\n",
      "Team 8 picking Roberto Osuna for RP\n",
      "Team 9 picking J.D. Martinez for OF\n",
      "Team 10 picking Yordan Alvarez for OF\n",
      "Team 11 picking Ozzie Albies for 2B\n",
      "Team 12 picking Kris Bryant for OF\n",
      "Team 12 picking José Ramírez for 3B\n",
      "Team 11 picking Aroldis Chapman for RP\n",
      "Team 10 picking DJ LeMahieu for 2B\n",
      "Team 9 picking Xander Bogaerts for UTIL\n",
      "Team 8 picking Aaron Judge for OF\n",
      "Team 7 picking Bryan Reynolds for OF\n",
      "Team 6 picking Bo Bichette for SS\n",
      "Finding Best Pick For Team 5\n",
      "Stored Result for Pick 0 Austin Meadows OF whose score is [1, 139.0]\n",
      "Stored Result for Pick 1 Keston Hiura UTIL whose score is [1, 140.0]\n",
      "Stored Result for Pick 2 Tommy Pham BN whose score is [1, 150.5]\n",
      "Stored Result for Pick 3 Taylor Rogers RP whose score is [2, 114.0]\n",
      "Stored Result for Pick 4 Seth Lugo P whose score is [2, 114.0]\n",
      "Stored Result for Pick 5 Mike Clevinger SP whose score is [2, 113.0]\n",
      "Stored Result for Pick 6 Carlos Santana 1B whose score is [10, 143.0]\n",
      "Stored Result for Pick 7 J.T. Realmuto C whose score is [9, 153.0]\n",
      "Team 5 picking Tommy Pham for BN\n",
      "Best Pick is Tommy Pham putting you in 1 place\n"
     ]
    }
   ],
   "source": [
    "zipsT = Draft(player_ranking_zips, draft_position = 5)\n",
    "df  = zipsT.remaining_ranked_players\n",
    "player_to_pick, projected_roto_stats = zipsT.draft_from_list_and_find_best_pick(draft_pick_file = 'TestPicksround4.xlsx', path_list = '/Users/marcoviero/Dropbox/Baseball_Notebooks/GameDay2020/Draft_Pick_Spreadsheets/')"
   ]
  },
  {
   "cell_type": "code",
   "execution_count": 7,
   "metadata": {},
   "outputs": [
    {
     "data": {
      "text/plain": [
       "'Tommy Pham'"
      ]
     },
     "execution_count": 7,
     "metadata": {},
     "output_type": "execute_result"
    }
   ],
   "source": [
    "player_to_pick"
   ]
  },
  {
   "cell_type": "code",
   "execution_count": 8,
   "metadata": {},
   "outputs": [],
   "source": [
    "projected_stats = projected_roto_stats[0]\n",
    "projected_standings = projected_roto_stats[3]\n",
    "projected_place = projected_roto_stats[4]\n",
    "projected_scores = projected_roto_stats[5]"
   ]
  },
  {
   "cell_type": "code",
   "execution_count": 9,
   "metadata": {},
   "outputs": [
    {
     "data": {
      "text/plain": [
       "1"
      ]
     },
     "execution_count": 9,
     "metadata": {},
     "output_type": "execute_result"
    }
   ],
   "source": [
    "projected_place"
   ]
  },
  {
   "cell_type": "code",
   "execution_count": 106,
   "metadata": {},
   "outputs": [
    {
     "name": "stdout",
     "output_type": "stream",
     "text": [
      "Placement = 3\n"
     ]
    },
    {
     "data": {
      "text/html": [
       "<div>\n",
       "<style scoped>\n",
       "    .dataframe tbody tr th:only-of-type {\n",
       "        vertical-align: middle;\n",
       "    }\n",
       "\n",
       "    .dataframe tbody tr th {\n",
       "        vertical-align: top;\n",
       "    }\n",
       "\n",
       "    .dataframe thead th {\n",
       "        text-align: right;\n",
       "    }\n",
       "</style>\n",
       "<table border=\"1\" class=\"dataframe\">\n",
       "  <thead>\n",
       "    <tr style=\"text-align: right;\">\n",
       "      <th></th>\n",
       "      <th>R</th>\n",
       "      <th>1B</th>\n",
       "      <th>2B</th>\n",
       "      <th>3B</th>\n",
       "      <th>HR</th>\n",
       "      <th>RBI</th>\n",
       "      <th>SB</th>\n",
       "      <th>BB</th>\n",
       "      <th>AVG</th>\n",
       "      <th>OPS</th>\n",
       "      <th>W</th>\n",
       "      <th>L</th>\n",
       "      <th>CG</th>\n",
       "      <th>SHO</th>\n",
       "      <th>SV</th>\n",
       "      <th>BB</th>\n",
       "      <th>SO</th>\n",
       "      <th>ERA</th>\n",
       "      <th>WHIP</th>\n",
       "      <th>BSV</th>\n",
       "    </tr>\n",
       "  </thead>\n",
       "  <tbody>\n",
       "    <tr>\n",
       "      <th>0</th>\n",
       "      <td>710.0</td>\n",
       "      <td>665.0</td>\n",
       "      <td>257.0</td>\n",
       "      <td>34.0</td>\n",
       "      <td>217.0</td>\n",
       "      <td>687.0</td>\n",
       "      <td>86.0</td>\n",
       "      <td>451.0</td>\n",
       "      <td>0.292164</td>\n",
       "      <td>0.902461</td>\n",
       "      <td>26.0</td>\n",
       "      <td>11.0</td>\n",
       "      <td>1.0</td>\n",
       "      <td>1.0</td>\n",
       "      <td>65.0</td>\n",
       "      <td>94.0</td>\n",
       "      <td>500.0</td>\n",
       "      <td>2.876948</td>\n",
       "      <td>0.991019</td>\n",
       "      <td>5.0</td>\n",
       "    </tr>\n",
       "    <tr>\n",
       "      <th>1</th>\n",
       "      <td>624.0</td>\n",
       "      <td>615.0</td>\n",
       "      <td>217.0</td>\n",
       "      <td>35.0</td>\n",
       "      <td>172.0</td>\n",
       "      <td>554.0</td>\n",
       "      <td>124.0</td>\n",
       "      <td>369.0</td>\n",
       "      <td>0.291118</td>\n",
       "      <td>0.874146</td>\n",
       "      <td>28.0</td>\n",
       "      <td>14.0</td>\n",
       "      <td>2.0</td>\n",
       "      <td>2.0</td>\n",
       "      <td>0.0</td>\n",
       "      <td>96.0</td>\n",
       "      <td>495.0</td>\n",
       "      <td>3.177949</td>\n",
       "      <td>1.053645</td>\n",
       "      <td>0.0</td>\n",
       "    </tr>\n",
       "    <tr>\n",
       "      <th>2</th>\n",
       "      <td>656.0</td>\n",
       "      <td>594.0</td>\n",
       "      <td>220.0</td>\n",
       "      <td>18.0</td>\n",
       "      <td>214.0</td>\n",
       "      <td>670.0</td>\n",
       "      <td>106.0</td>\n",
       "      <td>501.0</td>\n",
       "      <td>0.283750</td>\n",
       "      <td>0.898593</td>\n",
       "      <td>34.0</td>\n",
       "      <td>17.0</td>\n",
       "      <td>2.0</td>\n",
       "      <td>2.0</td>\n",
       "      <td>30.0</td>\n",
       "      <td>108.0</td>\n",
       "      <td>548.0</td>\n",
       "      <td>3.154637</td>\n",
       "      <td>1.014248</td>\n",
       "      <td>3.0</td>\n",
       "    </tr>\n",
       "    <tr>\n",
       "      <th>3</th>\n",
       "      <td>460.0</td>\n",
       "      <td>451.0</td>\n",
       "      <td>169.0</td>\n",
       "      <td>19.0</td>\n",
       "      <td>137.0</td>\n",
       "      <td>481.0</td>\n",
       "      <td>42.0</td>\n",
       "      <td>328.0</td>\n",
       "      <td>0.282515</td>\n",
       "      <td>0.868651</td>\n",
       "      <td>28.0</td>\n",
       "      <td>13.0</td>\n",
       "      <td>2.0</td>\n",
       "      <td>2.0</td>\n",
       "      <td>23.0</td>\n",
       "      <td>106.0</td>\n",
       "      <td>542.0</td>\n",
       "      <td>2.896880</td>\n",
       "      <td>1.024624</td>\n",
       "      <td>2.0</td>\n",
       "    </tr>\n",
       "  </tbody>\n",
       "</table>\n",
       "</div>"
      ],
      "text/plain": [
       "       R     1B     2B    3B     HR    RBI     SB     BB       AVG       OPS  \\\n",
       "0  710.0  665.0  257.0  34.0  217.0  687.0   86.0  451.0  0.292164  0.902461   \n",
       "1  624.0  615.0  217.0  35.0  172.0  554.0  124.0  369.0  0.291118  0.874146   \n",
       "2  656.0  594.0  220.0  18.0  214.0  670.0  106.0  501.0  0.283750  0.898593   \n",
       "3  460.0  451.0  169.0  19.0  137.0  481.0   42.0  328.0  0.282515  0.868651   \n",
       "\n",
       "      W     L   CG  SHO    SV     BB     SO       ERA      WHIP  BSV  \n",
       "0  26.0  11.0  1.0  1.0  65.0   94.0  500.0  2.876948  0.991019  5.0  \n",
       "1  28.0  14.0  2.0  2.0   0.0   96.0  495.0  3.177949  1.053645  0.0  \n",
       "2  34.0  17.0  2.0  2.0  30.0  108.0  548.0  3.154637  1.014248  3.0  \n",
       "3  28.0  13.0  2.0  2.0  23.0  106.0  542.0  2.896880  1.024624  2.0  "
      ]
     },
     "execution_count": 106,
     "metadata": {},
     "output_type": "execute_result"
    }
   ],
   "source": [
    "# Try a quick draft: 4 teams, limited roster spots, naive (i.e., next available pick on ranked list) picks.\n",
    "\n",
    "zipsS= Draft(player_ranking_zips, draft_position = 2, number_teams = 4, roster_spots = {'C':0,'1B':0,'2B':1, '3B':1,'SS':1,'OF':2,'UTIL':1,'SP':1,'RP':1,'P':1,'BN':1})\n",
    "zipsS.draft_all(naive_draft = True)\n",
    "print('Placement = '+str(zipsS.roto_placement))\n",
    "zipsS.roto_team_stats"
   ]
  },
  {
   "cell_type": "code",
   "execution_count": 110,
   "metadata": {},
   "outputs": [
    {
     "name": "stdout",
     "output_type": "stream",
     "text": [
      "Placement  = 8\n"
     ]
    }
   ],
   "source": [
    "# Now try a naive draft again, but for full 12 team and all 24 roster spots.  Draft Position is 2 \n",
    "\n",
    "zipsNaive_2 = Draft(player_ranking_zips, draft_position = 2)\n",
    "zipsNaive_2.draft_all(naive_draft = True)\n",
    "print('Placement  = '+str(zipsNaive_2.roto_placement))\n",
    "#zipsNaive_2.roto_team_stats"
   ]
  },
  {
   "cell_type": "code",
   "execution_count": 100,
   "metadata": {},
   "outputs": [
    {
     "name": "stdout",
     "output_type": "stream",
     "text": [
      "Swapping UTIL with OF\n",
      "Team 1 picking Mike Trout for OF\n",
      "Team 1 picking J.T. Realmuto for C\n",
      "Team 1 picking Ozzie Albies for 2B\n",
      "Team 1 picking Jorge Polanco for 3B\n",
      "Swapping UTIL with OF\n",
      "Team 1 picking George Springer for OF\n",
      "Team 1 picking Zack Greinke for SP\n",
      "Team 1 picking Starling Marte for OF\n",
      "Team 1 picking Josh Donaldson for UTIL\n",
      "Team 1 picking Chris Paddack for SP\n",
      "Team 1 picking Blake Snell for P\n",
      "Team 1 picking Nick Wittgren for RP\n",
      "Team 1 picking Jorge Soler for BN\n",
      "Team 1 picking Yonny Chirinos for RP\n",
      "Team 1 picking Yuli Gurriel for 1B\n",
      "Team 1 picking Hyun-Jin Ryu for P\n",
      "Team 1 picking Matt Manning for P\n",
      "Team 1 picking Jonathan Villar for SS\n",
      "Team 1 picking Joe Jiménez for BN\n",
      "Team 1 picking Julio Urías for BN\n",
      "Team 1 picking Matt Magill for BN\n",
      "Team 1 picking José Alvarado for BN\n"
     ]
    },
    {
     "data": {
      "text/plain": [
       "1"
      ]
     },
     "execution_count": 100,
     "metadata": {},
     "output_type": "execute_result"
    }
   ],
   "source": [
    "# This time do the full simulated picks version\n",
    "\n",
    "zips_2 = Draft(player_ranking_zips, draft_position = 2)\n",
    "zips_2.draft_all(naive_draft = False)\n",
    "print('Placement  = '+str(zips_2.roto_placement))\n",
    "#zips_2.roto_team_stats"
   ]
  },
  {
   "cell_type": "code",
   "execution_count": 108,
   "metadata": {},
   "outputs": [
    {
     "name": "stdout",
     "output_type": "stream",
     "text": [
      "Placement  = 12\n"
     ]
    }
   ],
   "source": [
    "zipsNaive_7 = Draft(player_ranking_zips, draft_position = 7)\n",
    "zipsNaive_7.draft_all(naive_draft = True)\n",
    "print('Placement  = '+str(zipsNaive_7.roto_placement))"
   ]
  },
  {
   "cell_type": "code",
   "execution_count": 101,
   "metadata": {},
   "outputs": [
    {
     "name": "stdout",
     "output_type": "stream",
     "text": [
      "Team 6 picking J.T. Realmuto for C\n",
      "Team 6 picking DJ LeMahieu for 1B\n",
      "Team 6 picking Chris Sale for SP\n",
      "Team 6 picking Keston Hiura for 2B\n",
      "Team 6 picking Carlos Santana for RP\n",
      "Team 6 picking Josh Bell for UTIL\n",
      "Team 6 picking Hunter Dozier for OF\n",
      "Team 6 picking Chris Paddack for SP\n",
      "Team 6 picking Tommy Edman for 3B\n",
      "Team 6 picking Luis Severino for P\n",
      "Team 6 picking Victor Robles for OF\n",
      "Team 6 picking Aaron Bummer for RP\n",
      "Team 6 picking Matt Olson for BN\n",
      "Team 6 picking Eddie Rosario for OF\n",
      "Team 6 picking Jean Segura for SS\n",
      "Team 6 picking Tyler Rogers for P\n",
      "Team 6 picking Andrew Chafin for BN\n",
      "Team 6 picking Ryan Yarbrough for P\n",
      "Team 6 picking Julio Urías for BN\n",
      "Team 6 picking Ty Buttrey for BN\n",
      "Team 6 picking Cam Bedrosian for BN\n"
     ]
    },
    {
     "data": {
      "text/plain": [
       "1"
      ]
     },
     "execution_count": 101,
     "metadata": {},
     "output_type": "execute_result"
    }
   ],
   "source": [
    "zips_7 = Draft(player_ranking_zips, draft_position = 7)\n",
    "zips_7.draft_all(naive_draft = False)\n",
    "print('Placement  = '+str(zips_7.roto_placement))"
   ]
  },
  {
   "cell_type": "code",
   "execution_count": 111,
   "metadata": {},
   "outputs": [
    {
     "name": "stdout",
     "output_type": "stream",
     "text": [
      "Placement  = 4\n"
     ]
    }
   ],
   "source": [
    "zipsNaive_11 = Draft(player_ranking_zips, draft_position = 11)\n",
    "zipsNaive_11.draft_all(naive_draft = True)\n",
    "print('Placement  = '+str(zipsNaive_11.roto_placement))"
   ]
  },
  {
   "cell_type": "code",
   "execution_count": 103,
   "metadata": {},
   "outputs": [
    {
     "name": "stdout",
     "output_type": "stream",
     "text": [
      "Team 10 picking Rafael Devers for 3B\n",
      "Team 10 picking Charlie Blackmon for OF\n",
      "Team 10 picking Keston Hiura for 2B\n",
      "Team 10 picking Gerrit Cole for P\n",
      "Team 10 picking Nick Castellanos for OF\n",
      "Team 10 picking Josh Bell for SS\n",
      "Team 10 picking Adam Ottavino for RP\n",
      "Team 10 picking Manny Machado for UTIL\n",
      "Team 10 picking Tommy Edman for OF\n",
      "Team 10 picking Adam Kolarek for RP\n",
      "Team 10 picking Yu Darvish for SP\n",
      "Team 10 picking Mike Soroka for SP\n",
      "Team 10 picking J.T. Realmuto for C\n",
      "Team 10 picking Elvis Andrus for BN\n",
      "Team 10 picking Richard Rodríguez for P\n",
      "Team 10 picking Tim Anderson for BN\n",
      "Team 10 picking Michael Lorenzen for P\n",
      "Team 10 picking Sam Tuivailala for BN\n",
      "Team 10 picking Shohei Ohtani for BN\n",
      "Team 10 picking Mychal Givens for BN\n",
      "Team 10 picking Ryan McMahon for 1B\n"
     ]
    },
    {
     "data": {
      "text/plain": [
       "1"
      ]
     },
     "execution_count": 103,
     "metadata": {},
     "output_type": "execute_result"
    }
   ],
   "source": [
    "zips_11 = Draft(player_ranking_zips, draft_position = 11)\n",
    "zips_11.draft_all(naive_draft = False)\n",
    "print('Placement  = '+str(zips_11.roto_placement))"
   ]
  },
  {
   "cell_type": "code",
   "execution_count": 10,
   "metadata": {},
   "outputs": [],
   "source": [
    "steamM = Draft(player_ranking_zips, number_teams = 6, roster_spots = {'C':1,'1B':1,'2B':1, '3B':1,'SS':1,'OF':3,'UTIL':1,'SP':2,'RP':2,'P':3,'BN':2})\n",
    "steamM.draft_all(naive_draft = True)"
   ]
  },
  {
   "cell_type": "code",
   "execution_count": 112,
   "metadata": {},
   "outputs": [
    {
     "name": "stdout",
     "output_type": "stream",
     "text": [
      "Team 1 picking J.T. Realmuto for C\n",
      "Team 1 picking Ketel Marte for SP\n",
      "Team 1 picking Rafael Devers for 3B\n",
      "Team 1 picking Mike Clevinger for SP\n",
      "Swapping UTIL with OF\n",
      "Team 1 picking George Springer for OF\n",
      "Team 1 picking Anthony Rizzo for SS\n",
      "Team 1 picking Starling Marte for OF\n",
      "Team 1 picking Josh Donaldson for UTIL\n",
      "Team 1 picking Chris Paddack for P\n",
      "Team 1 picking Tommy Kahnle for BN\n",
      "Team 1 picking Matt Chapman for BN\n",
      "Team 1 picking Gleyber Torres for 2B\n",
      "Team 1 picking Yonny Chirinos for RP\n",
      "Team 1 picking Yuli Gurriel for 1B\n",
      "Team 1 picking Andrew McCutchen for OF\n",
      "Team 1 picking Matt Manning for P\n",
      "Team 1 picking Dellin Betances for P\n",
      "Team 1 picking Carl Edwards for RP\n",
      "Team 1 picking Forrest Whitley for BN\n",
      "Team 1 picking Ty Buttrey for BN\n",
      "Team 1 picking Cam Bedrosian for BN\n",
      "Placement  = 1\n"
     ]
    }
   ],
   "source": [
    "steam_2= Draft(player_ranking_steam, draft_position = 2)\n",
    "steam_2.draft_all(naive_draft = False)\n",
    "print('Placement  = '+str(steam_2.roto_placement))"
   ]
  },
  {
   "cell_type": "code",
   "execution_count": 113,
   "metadata": {},
   "outputs": [
    {
     "name": "stdout",
     "output_type": "stream",
     "text": [
      "Team 6 picking J.T. Realmuto for C\n",
      "Team 6 picking DJ LeMahieu for 1B\n",
      "Team 6 picking Josh Hader for RP\n",
      "Swapping UTIL with OF\n",
      "Team 6 picking Aaron Judge for OF\n",
      "Team 6 picking Paul Goldschmidt for BN\n",
      "Team 6 picking Michael Conforto for OF\n",
      "Team 6 picking Jeff McNeil for 2B\n",
      "Team 6 picking Chris Paddack for SP\n",
      "Swapping UTIL with OF\n",
      "Team 6 picking Trey Mancini for OF\n",
      "Team 6 picking Luis Severino for SP\n",
      "Team 6 picking Colin Poche for RP\n",
      "Team 6 picking Yoan López for BN\n",
      "Team 6 picking Matt Olson for UTIL\n",
      "Team 6 picking Eddie Rosario for BN\n",
      "Team 6 picking Emmanuel Clase for P\n",
      "Team 6 picking Carlos Correa for SS\n",
      "Team 6 picking Seranthony Domínguez for P\n",
      "Team 6 picking Carlos Carrasco for P\n",
      "Team 6 picking David Fletcher for 3B\n",
      "Team 6 picking Marcus Walden for BN\n",
      "Team 6 picking Ty Buttrey for BN\n",
      "Placement  = 1\n"
     ]
    }
   ],
   "source": [
    "steam_7= Draft(player_ranking_steam, draft_position = 7)\n",
    "steam_7.draft_all(naive_draft = False)\n",
    "print('Placement  = '+str(steam_7.roto_placement))"
   ]
  },
  {
   "cell_type": "code",
   "execution_count": 114,
   "metadata": {},
   "outputs": [
    {
     "name": "stdout",
     "output_type": "stream",
     "text": [
      "Team 10 picking Rafael Devers for 3B\n",
      "Team 10 picking Jacob deGrom for SP\n",
      "Team 10 picking J.T. Realmuto for C\n",
      "Team 10 picking Chris Sale for SP\n",
      "Team 10 picking Jeff McNeil for 2B\n",
      "Team 10 picking Jorge Polanco for SS\n",
      "Team 10 picking Andrew Benintendi for OF\n",
      "Team 10 picking Hunter Dozier for 1B\n",
      "Team 10 picking Pedro Báez for RP\n",
      "Swapping UTIL with OF\n",
      "Team 10 picking Trey Mancini for OF\n",
      "Team 10 picking Andres Muñoz for RP\n",
      "Team 10 picking Mike Soroka for BN\n",
      "Team 10 picking Elvis Andrus for UTIL\n",
      "Team 10 picking Eddie Rosario for OF\n",
      "Team 10 picking Jean Segura for BN\n",
      "Team 10 picking Tim Anderson for BN\n",
      "Team 10 picking Oliver Drake for P\n",
      "Team 10 picking Sam Tuivailala for P\n",
      "Team 10 picking Ty Buttrey for P\n",
      "Team 10 picking Cam Bedrosian for BN\n",
      "Team 10 picking Mychal Givens for BN\n",
      "Placement  = 1\n"
     ]
    }
   ],
   "source": [
    "steam_11= Draft(player_ranking_steam, draft_position = 11)\n",
    "steam_11.draft_all(naive_draft = False)\n",
    "print('Placement  = '+str(steam_11.roto_placement))"
   ]
  },
  {
   "cell_type": "code",
   "execution_count": 12,
   "metadata": {},
   "outputs": [],
   "source": [
    "steamL= Draft(player_ranking_steam, draft_position = 8)"
   ]
  },
  {
   "cell_type": "code",
   "execution_count": null,
   "metadata": {},
   "outputs": [
    {
     "name": "stdout",
     "output_type": "stream",
     "text": [
      "Team 8 picking Roberto Osuna for RP\n"
     ]
    }
   ],
   "source": [
    "steamL.draft_all()"
   ]
  },
  {
   "cell_type": "code",
   "execution_count": null,
   "metadata": {},
   "outputs": [],
   "source": [
    "steamL.teams[8]['roster']"
   ]
  },
  {
   "cell_type": "code",
   "execution_count": 256,
   "metadata": {},
   "outputs": [
    {
     "name": "stdout",
     "output_type": "stream",
     "text": [
      "Picking from:\n",
      "                PLAYER EligiblePosition\n",
      "Rank                                   \n",
      "2         Mookie Betts               OF\n",
      "3           Mike Trout               OF\n",
      "4         Ronald Acuña               OF\n",
      "6       Anthony Rendon               3B\n",
      "7       Cody Bellinger            1B/OF\n",
      "9         Alex Bregman            3B/SS\n",
      "11    Justin Verlander               SP\n",
      "13        Jacob deGrom               SP\n",
      "15     Whit Merrifield            2B/OF\n",
      "27       Roberto Osuna               RP\n",
      "185      J.T. Realmuto                C\n",
      "Stored Result for Pick 0 Mookie Betts OF whose score is [8, 177.5]\n",
      "Stored Result for Pick 1 Mike Trout UTIL whose score is [5, 132.5]\n",
      "Stored Result for Pick 2 Ronald Acuña BN whose score is [9, 119.5]\n",
      "Stored Result for Pick 3 Anthony Rendon 3B whose score is [6, 129.5]\n",
      "Stored Result for Pick 4 Cody Bellinger 1B whose score is [6, 139.0]\n",
      "Stored Result for Pick 5 Alex Bregman SS whose score is [6, 131.0]\n",
      "Stored Result for Pick 6 Justin Verlander SP whose score is [9, 104.0]\n",
      "Stored Result for Pick 7 Jacob deGrom P whose score is [9, 104.0]\n",
      "Stored Result for Pick 8 Whit Merrifield 2B whose score is [9, 124.5]\n",
      "Stored Result for Pick 9 Roberto Osuna RP whose score is [5, 109.0]\n",
      "Stored Result for Pick 10 J.T. Realmuto C whose score is [3, 136.5]\n",
      "Team 1 Forced to pick J.T. Realmuto for C\n",
      "Picking from:\n",
      "              PLAYER EligiblePosition\n",
      "Rank                                 \n",
      "22     Jack Flaherty               SP\n",
      "23    Walker Buehler               SP\n",
      "24       Ketel Marte         2B/SS/OF\n",
      "25     Rafael Devers               3B\n",
      "26       Trea Turner               SS\n",
      "27     Roberto Osuna               RP\n",
      "28    Bryan Reynolds               OF\n",
      "29    Yordan Alvarez               OF\n",
      "30      José Ramírez               3B\n",
      "45       DJ LeMahieu         1B/2B/3B\n",
      "Stored Result for Pick 0 Jack Flaherty SP whose score is [3, 136.5]\n",
      "Stored Result for Pick 1 Walker Buehler P whose score is [3, 137.5]\n",
      "Stored Result for Pick 2 Ketel Marte 2B whose score is [1, 153.0]\n",
      "Stored Result for Pick 3 Rafael Devers 3B whose score is [1, 153.0]\n",
      "Stored Result for Pick 4 Trea Turner SS whose score is [1, 151.0]\n",
      "Stored Result for Pick 5 Roberto Osuna RP whose score is [6, 89.0]\n",
      "Stored Result for Pick 6 Bryan Reynolds OF whose score is [7, 142.0]\n",
      "Stored Result for Pick 7 Yordan Alvarez UTIL whose score is [1, 153.5]\n",
      "Stored Result for Pick 8 José Ramírez BN whose score is [6, 81.0]\n",
      "Stored Result for Pick 9 DJ LeMahieu 1B whose score is [4, 116.5]\n",
      "Team 1 Forced to pick Yordan Alvarez for UTIL\n",
      "Picking from:\n",
      "              PLAYER EligiblePosition\n",
      "Rank                                 \n",
      "24       Ketel Marte         2B/SS/OF\n",
      "25     Rafael Devers               3B\n",
      "26       Trea Turner               SS\n",
      "27     Roberto Osuna               RP\n",
      "28    Bryan Reynolds               OF\n",
      "30      José Ramírez               3B\n",
      "33        Josh Hader               RP\n",
      "37        Chris Sale               SP\n",
      "45       DJ LeMahieu         1B/2B/3B\n",
      "Stored Result for Pick 0 Ketel Marte 2B whose score is [1, 153.5]\n",
      "Stored Result for Pick 1 Rafael Devers 3B whose score is [1, 155.5]\n",
      "Stored Result for Pick 2 Trea Turner SS whose score is [1, 145.0]\n",
      "Stored Result for Pick 3 Roberto Osuna RP whose score is [2, 149.0]\n",
      "Stored Result for Pick 4 Bryan Reynolds OF whose score is [6, 86.0]\n",
      "Stored Result for Pick 5 José Ramírez BN whose score is [5, 89.0]\n",
      "Stored Result for Pick 6 Josh Hader P whose score is [6, 85.0]\n",
      "Stored Result for Pick 7 Chris Sale SP whose score is [3, 124.5]\n",
      "Stored Result for Pick 8 DJ LeMahieu 1B whose score is [4, 126.0]\n",
      "Team 1 Forced to pick Rafael Devers for 3B\n",
      "Picking from:\n",
      "              PLAYER EligiblePosition\n",
      "Rank                                 \n",
      "46    Mike Clevinger               SP\n",
      "47      Yoán Moncada               3B\n",
      "48     Tyler Glasnow               SP\n",
      "50        Keone Kela               RP\n",
      "51       Aaron Judge               OF\n",
      "55    Carlos Santana               1B\n",
      "60     Jorge Polanco               SS\n",
      "78       Jeff McNeil         2B/3B/OF\n",
      "Stored Result for Pick 0 Mike Clevinger SP whose score is [1, 155.5]\n",
      "Stored Result for Pick 1 Yoán Moncada BN whose score is [3, 139.0]\n",
      "Stored Result for Pick 2 Tyler Glasnow P whose score is [1, 154.0]\n",
      "Stored Result for Pick 3 Keone Kela RP whose score is [2, 155.0]\n",
      "Stored Result for Pick 4 Aaron Judge OF whose score is [4, 123.5]\n",
      "Stored Result for Pick 5 Carlos Santana 1B whose score is [1, 157.0]\n",
      "Stored Result for Pick 6 Jorge Polanco SS whose score is [1, 147.0]\n",
      "Stored Result for Pick 7 Jeff McNeil 2B whose score is [3, 139.0]\n",
      "Team 1 Forced to pick Carlos Santana for 1B\n",
      "Picking from:\n",
      "                 PLAYER EligiblePosition\n",
      "Rank                                    \n",
      "48        Tyler Glasnow               SP\n",
      "49         Shane Bieber               SP\n",
      "50           Keone Kela               RP\n",
      "51          Aaron Judge               OF\n",
      "52    Stephen Strasburg               SP\n",
      "60        Jorge Polanco               SS\n",
      "78          Jeff McNeil         2B/3B/OF\n",
      "Stored Result for Pick 0 Tyler Glasnow SP whose score is [1, 157.0]\n",
      "Stored Result for Pick 1 Shane Bieber P whose score is [1, 157.0]\n",
      "Stored Result for Pick 2 Keone Kela RP whose score is [3, 131.5]\n",
      "Stored Result for Pick 3 Aaron Judge OF whose score is [3, 132.0]\n",
      "Stored Result for Pick 4 Stephen Strasburg BN whose score is [1, 145.0]\n",
      "Stored Result for Pick 5 Jorge Polanco SS whose score is [7, 151.5]\n",
      "Stored Result for Pick 6 Jeff McNeil 2B whose score is [3, 141.0]\n",
      "Team 1 Forced to pick Tyler Glasnow for SP\n",
      "Picking from:\n",
      "              PLAYER EligiblePosition\n",
      "Rank                                 \n",
      "70     Marcus Semien               SS\n",
      "71      Zack Greinke               SP\n",
      "72     Anthony Rizzo               1B\n",
      "73    Starling Marte               OF\n",
      "74       Will Harris               RP\n",
      "75        Will Smith               RP\n",
      "78       Jeff McNeil         2B/3B/OF\n",
      "Stored Result for Pick 0 Marcus Semien SS whose score is [1, 157.0]\n",
      "Stored Result for Pick 1 Zack Greinke SP whose score is [1, 151.0]\n",
      "Stored Result for Pick 2 Anthony Rizzo BN whose score is [1, 148.0]\n",
      "Stored Result for Pick 3 Starling Marte OF whose score is [1, 148.0]\n",
      "Stored Result for Pick 4 Will Harris RP whose score is [1, 149.0]\n",
      "Stored Result for Pick 5 Will Smith P whose score is [1, 148.0]\n",
      "Stored Result for Pick 6 Jeff McNeil 2B whose score is [2, 160.5]\n",
      "Team 1 Forced to pick Marcus Semien for SS\n",
      "Picking from:\n",
      "              PLAYER EligiblePosition\n",
      "Rank                                 \n",
      "73    Starling Marte               OF\n",
      "74       Will Harris               RP\n",
      "75        Will Smith               RP\n",
      "76      Eloy Jiménez               OF\n",
      "78       Jeff McNeil         2B/3B/OF\n",
      "97     Chris Paddack               SP\n",
      "Stored Result for Pick 0 Starling Marte OF whose score is [1, 157.0]\n",
      "Stored Result for Pick 1 Will Harris RP whose score is [1, 155.5]\n",
      "Stored Result for Pick 2 Will Smith P whose score is [1, 154.5]\n",
      "Stored Result for Pick 3 Eloy Jiménez BN whose score is [1, 155.0]\n",
      "Stored Result for Pick 4 Jeff McNeil 2B whose score is [4, 143.5]\n",
      "Stored Result for Pick 5 Chris Paddack SP whose score is [3, 130.5]\n",
      "Team 1 Forced to pick Starling Marte for OF\n",
      "Picking from:\n",
      "              PLAYER EligiblePosition\n",
      "Rank                                 \n",
      "94    Josh Donaldson               3B\n",
      "95    Yusmeiro Petit               RP\n",
      "96      Ryan Pressly               RP\n",
      "97     Chris Paddack               SP\n",
      "107      Tommy Edman         2B/3B/OF\n",
      "110    Shogo Akiyama               OF\n",
      "Stored Result for Pick 0 Josh Donaldson BN whose score is [1, 157.0]\n",
      "Stored Result for Pick 1 Yusmeiro Petit RP whose score is [3, 137.0]\n",
      "Stored Result for Pick 2 Ryan Pressly P whose score is [3, 138.0]\n",
      "Stored Result for Pick 3 Chris Paddack SP whose score is [3, 138.0]\n",
      "Stored Result for Pick 4 Tommy Edman 2B whose score is [6, 74.5]\n",
      "Stored Result for Pick 5 Shogo Akiyama OF whose score is [10, 164.5]\n",
      "Team 1 Forced to pick Josh Donaldson for BN\n",
      "Picking from:\n",
      "              PLAYER EligiblePosition\n",
      "Rank                                 \n",
      "97     Chris Paddack               SP\n",
      "98    Rafael Montero               RP\n",
      "99     Luis Castillo               SP\n",
      "100       José Abreu               1B\n",
      "107      Tommy Edman         2B/3B/OF\n",
      "110    Shogo Akiyama               OF\n",
      "Stored Result for Pick 0 Chris Paddack SP whose score is [1, 157.0]\n",
      "Stored Result for Pick 1 Rafael Montero RP whose score is [4, 118.0]\n",
      "Stored Result for Pick 2 Luis Castillo P whose score is [1, 156.0]\n",
      "Stored Result for Pick 3 José Abreu BN whose score is [3, 157.0]\n",
      "Stored Result for Pick 4 Tommy Edman 2B whose score is [6, 73.5]\n",
      "Stored Result for Pick 5 Shogo Akiyama OF whose score is [8, 122.5]\n",
      "Team 1 Forced to pick Chris Paddack for SP\n",
      "Picking from:\n",
      "              PLAYER EligiblePosition\n",
      "Rank                                 \n",
      "119      Blake Snell               SP\n",
      "120     Trey Mancini            1B/OF\n",
      "121    Nick Wittgren               RP\n",
      "122     Tommy Kahnle               RP\n",
      "143   Gleyber Torres            2B/SS\n",
      "Stored Result for Pick 0 Blake Snell P whose score is [3, 136.5]\n",
      "Stored Result for Pick 1 Trey Mancini OF whose score is [3, 117.5]\n",
      "Stored Result for Pick 2 Nick Wittgren RP whose score is [3, 117.5]\n",
      "Stored Result for Pick 3 Tommy Kahnle BN whose score is [3, 118.0]\n",
      "Stored Result for Pick 4 Gleyber Torres 2B whose score is [1, 160.0]\n",
      "Team 1 Forced to pick Gleyber Torres for 2B\n",
      "Picking from:\n",
      "             PLAYER EligiblePosition\n",
      "Rank                                \n",
      "120    Trey Mancini            1B/OF\n",
      "121   Nick Wittgren               RP\n",
      "122    Tommy Kahnle               RP\n",
      "123   Justin Wilson               RP\n",
      "Stored Result for Pick 0 Trey Mancini OF whose score is [1, 160.0]\n",
      "Stored Result for Pick 1 Nick Wittgren RP whose score is [2, 155.5]\n",
      "Stored Result for Pick 2 Tommy Kahnle P whose score is [2, 156.0]\n",
      "Stored Result for Pick 3 Justin Wilson BN whose score is [2, 155.5]\n",
      "Team 1 Forced to pick Trey Mancini for OF\n",
      "Picking from:\n",
      "              PLAYER EligiblePosition\n",
      "Rank                                 \n",
      "141    David Peralta               OF\n",
      "142      Jorge Soler               OF\n",
      "144     José Leclerc            SP/RP\n",
      "145   Yonny Chirinos            SP/RP\n",
      "Stored Result for Pick 0 David Peralta OF whose score is [1, 160.0]\n",
      "Stored Result for Pick 1 Jorge Soler BN whose score is [1, 158.0]\n",
      "Stored Result for Pick 2 José Leclerc RP whose score is [1, 157.5]\n",
      "Stored Result for Pick 3 Yonny Chirinos P whose score is [1, 157.5]\n",
      "Team 1 Forced to pick David Peralta for OF\n",
      "Picking from:\n",
      "              PLAYER EligiblePosition\n",
      "Rank                                 \n",
      "145   Yonny Chirinos            SP/RP\n",
      "146    Lucas Giolito               SP\n",
      "147    Craig Stammen               RP\n",
      "Stored Result for Pick 0 Yonny Chirinos RP whose score is [1, 160.0]\n",
      "Stored Result for Pick 1 Lucas Giolito P whose score is [1, 160.0]\n",
      "Stored Result for Pick 2 Craig Stammen BN whose score is [1, 159.0]\n",
      "Team 1 Forced to pick Yonny Chirinos for RP\n",
      "Picking from:\n",
      "              PLAYER EligiblePosition\n",
      "Rank                                 \n",
      "166   MacKenzie Gore               SP\n",
      "167    Justin Turner               3B\n",
      "169       Trevor May               RP\n",
      "Stored Result for Pick 0 MacKenzie Gore P whose score is [1, 160.0]\n",
      "Stored Result for Pick 1 Justin Turner BN whose score is [1, 149.5]\n",
      "Stored Result for Pick 2 Trevor May RP whose score is [1, 157.0]\n",
      "Team 1 Forced to pick MacKenzie Gore for P\n",
      "Picking from:\n",
      "            PLAYER EligiblePosition\n",
      "Rank                               \n",
      "169     Trevor May               RP\n",
      "170   Shane Greene               RP\n",
      "171     Rowan Wick               RP\n",
      "Stored Result for Pick 0 Trevor May RP whose score is [1, 160.0]\n",
      "Stored Result for Pick 1 Shane Greene P whose score is [1, 160.0]\n",
      "Stored Result for Pick 2 Rowan Wick BN whose score is [1, 158.5]\n",
      "Team 1 Forced to pick Trevor May for RP\n",
      "Picking from:\n",
      "                PLAYER EligiblePosition\n",
      "Rank                                   \n",
      "190   Brusdar Graterol               RP\n",
      "191       Matt Manning               SP\n",
      "Stored Result for Pick 0 Brusdar Graterol P whose score is [1, 160.0]\n",
      "Stored Result for Pick 1 Matt Manning BN whose score is [1, 161.0]\n",
      "Team 1 Forced to pick Matt Manning for BN\n",
      "Picking from:\n",
      "               PLAYER EligiblePosition\n",
      "Rank                                  \n",
      "194   César Hernández               2B\n",
      "195   Dellin Betances               RP\n",
      "Stored Result for Pick 0 César Hernández BN whose score is [1, 161.0]\n",
      "Stored Result for Pick 1 Dellin Betances P whose score is [1, 161.0]\n",
      "Team 1 Forced to pick Dellin Betances for P\n",
      "Picking from:\n",
      "              PLAYER EligiblePosition\n",
      "Rank                                 \n",
      "211   Kyle Hendricks               SP\n",
      "212    Chris Bassitt               SP\n",
      "Stored Result for Pick 0 Kyle Hendricks P whose score is [1, 161.0]\n",
      "Stored Result for Pick 1 Chris Bassitt BN whose score is [1, 161.0]\n",
      "Team 1 Forced to pick Kyle Hendricks for P\n",
      "Picking from:\n",
      "             PLAYER EligiblePosition\n",
      "Rank                                \n",
      "212   Chris Bassitt               SP\n",
      "Stored Result for Pick 0 Chris Bassitt BN whose score is [1, 161.0]\n",
      "Team 1 Forced to pick Chris Bassitt for BN\n",
      "Picking from:\n",
      "           PLAYER EligiblePosition\n",
      "Rank                              \n",
      "218   Julio Urías            SP/RP\n",
      "Stored Result for Pick 0 Julio Urías BN whose score is [1, 161.0]\n",
      "Team 1 Forced to pick Julio Urías for BN\n",
      "Picking from:\n",
      "             PLAYER EligiblePosition\n",
      "Rank                                \n",
      "219   Marcus Walden               RP\n",
      "Stored Result for Pick 0 Marcus Walden BN whose score is [1, 161.0]\n",
      "Team 1 Forced to pick Marcus Walden for BN\n"
     ]
    }
   ],
   "source": [
    "zips = Draft(player_ranking_zips)\n",
    "zips.draft_all()"
   ]
  },
  {
   "cell_type": "code",
   "execution_count": null,
   "metadata": {},
   "outputs": [],
   "source": []
  }
 ],
 "metadata": {
  "kernelspec": {
   "display_name": "Python 3",
   "language": "python",
   "name": "python3"
  },
  "language_info": {
   "codemirror_mode": {
    "name": "ipython",
    "version": 3
   },
   "file_extension": ".py",
   "mimetype": "text/x-python",
   "name": "python",
   "nbconvert_exporter": "python",
   "pygments_lexer": "ipython3",
   "version": "3.6.7"
  }
 },
 "nbformat": 4,
 "nbformat_minor": 4
}
